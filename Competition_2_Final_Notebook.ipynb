{
  "cells": [
    {
      "cell_type": "markdown",
      "metadata": {
        "id": "fz2amU6XVpZI"
      },
      "source": [
        "#DATA 6545: Competition 2 Data Audit Report\n",
        "Caroline Donovan, Patrycja Ciemniewska, and Euan Brown\n",
        "\n",
        "Dr. Jie Tao\n",
        "\n"
      ]
    },
    {
      "cell_type": "markdown",
      "source": [
        "##Introduction"
      ],
      "metadata": {
        "id": "dAHtiq4EBiJV"
      }
    },
    {
      "cell_type": "markdown",
      "source": [
        "This analysis encompasses three questions:\n",
        "\n",
        "**Can we detect bank application fraud?**\n",
        "\n",
        "**Is there a model that works better than others?**\n",
        "\n",
        "**What features help to best detect fraud?**\n",
        "\n",
        "For this project, we used real bank application data from our client, ABC Bank. The bank asks many questions when taking on a new customer. Some of the questions include income, age, current address, previous address, credit score, and more. The dataset consisted of 100,000 instances, 35 features, and 1 target feature. The target feature, fraud_bool, is a binary feature yielding a 0 or 1 for false or true.\n",
        "\n",
        "The analysis began with a data audit where we cleaned the data, imputed the data, and reviewed key features of the data. After this was complete, we created 6 pipelines showing the 6 different ways the data can be pre-processed. The data ran through each of the pipelines, feature selection was done on each, and through a NB model, the best two pipelines were discovered. After this, these two pipelines went through the NB model again to determine the best pipeline. Once we had our final pipeline, we used a selection of machine learning models to compare recall bias and variance. Finally, we optimized our best models with hyperparameters to get our best possible scores.\n"
      ],
      "metadata": {
        "id": "SmLeaCt7BcPT"
      }
    },
    {
      "cell_type": "markdown",
      "metadata": {
        "id": "LYRYlptrV9tU"
      },
      "source": [
        "#Section 1: Imports and Data 📘"
      ]
    },
    {
      "cell_type": "markdown",
      "metadata": {
        "id": "jbhhYjMXdJRh"
      },
      "source": [
        "##Necessary Imports"
      ]
    },
    {
      "cell_type": "code",
      "execution_count": null,
      "metadata": {
        "id": "Kgh14hGbQPvg"
      },
      "outputs": [],
      "source": [
        "# Import required libraries\n",
        "from sklearn.datasets import make_classification\n",
        "\n",
        "from sklearn.model_selection import train_test_split\n",
        "\n",
        "from sklearn.preprocessing import KBinsDiscretizer, FunctionTransformer, PowerTransformer\n",
        "\n",
        "from sklearn import model_selection\n",
        "\n",
        "from sklearn.feature_selection import SelectKBest\n",
        "from sklearn.feature_selection import chi2\n",
        "from sklearn.feature_selection import f_regression\n",
        "from sklearn.feature_selection import RFE\n",
        "from sklearn.feature_selection import f_classif\n",
        "\n",
        "from collections import Counter\n",
        "\n",
        "from sklearn.linear_model import Ridge\n",
        "\n",
        "from sklearn.compose import ColumnTransformer\n",
        "from sklearn.preprocessing import StandardScaler, OneHotEncoder\n",
        "from sklearn.impute import SimpleImputer\n",
        "from sklearn.pipeline import Pipeline\n",
        "\n",
        "from sklearn.tree import DecisionTreeClassifier\n",
        "from sklearn.linear_model import LogisticRegression, SGDClassifier\n",
        "from sklearn.svm import LinearSVC\n",
        "from sklearn.naive_bayes import GaussianNB\n",
        "from sklearn.ensemble import RandomForestClassifier, GradientBoostingClassifier, BaggingClassifier, VotingClassifier, ExtraTreesClassifier\n",
        "\n",
        "from imblearn.over_sampling import SMOTE\n",
        "\n",
        "from scipy.stats import ttest_ind\n",
        "\n",
        "import pandas as pd\n",
        "import numpy as np\n",
        "\n",
        "import datetime\n",
        "from tqdm import tqdm\n",
        "from itertools import combinations\n",
        "\n",
        "import matplotlib.pyplot as plt\n",
        "import seaborn as sns\n",
        "import pickle\n",
        "\n",
        "import statsmodels.formula.api as smf\n",
        "import statsmodels.stats.api as sms\n",
        "\n"
      ]
    },
    {
      "cell_type": "markdown",
      "metadata": {
        "id": "3T6Iy_8HdLmh"
      },
      "source": [
        "##Data"
      ]
    },
    {
      "cell_type": "code",
      "execution_count": null,
      "metadata": {
        "colab": {
          "base_uri": "https://localhost:8080/"
        },
        "id": "4ET1_hd6ocWm",
        "outputId": "cf4af955-9a4d-46d5-d4ba-493e628b32fd"
      },
      "outputs": [
        {
          "output_type": "stream",
          "name": "stdout",
          "text": [
            "Mounted at /content/drive\n"
          ]
        }
      ],
      "source": [
        "# Connect to google drive\n",
        "from google.colab import drive\n",
        "drive.mount('/content/drive')"
      ]
    },
    {
      "cell_type": "code",
      "execution_count": null,
      "metadata": {
        "colab": {
          "base_uri": "https://localhost:8080/",
          "height": 365
        },
        "id": "6utg321xkaED",
        "outputId": "dc0abc85-d474-4c5e-9340-85f861652896"
      },
      "outputs": [
        {
          "output_type": "execute_result",
          "data": {
            "text/plain": [
              "   fraud_bool  income  name_email_similarity  prev_address_months_count  \\\n",
              "0           0     0.2               0.773992                         -1   \n",
              "1           0     0.6               0.298966                         -1   \n",
              "2           1     0.9               0.591834                         -1   \n",
              "3           0     0.1               0.208465                         -1   \n",
              "4           0     0.7               0.183629                         29   \n",
              "\n",
              "   current_address_months_count  customer_age  days_since_request  \\\n",
              "0                           225          10.0            0.002405   \n",
              "1                            41          20.0            0.023593   \n",
              "2                            60          20.0            0.011150   \n",
              "3                            61          40.0            0.008276   \n",
              "4                            13          30.0            5.859822   \n",
              "\n",
              "   intended_balcon_amount payment_type  zip_count_4w  ...  \\\n",
              "0               -0.476980           AB          1200  ...   \n",
              "1               -1.324930           AC          1650  ...   \n",
              "2               -0.910277           AB          3130  ...   \n",
              "3               -1.113259           AB          1242  ...   \n",
              "4               -1.136572           AA          1499  ...   \n",
              "\n",
              "   session_length_in_minutes  device_os  keep_alive_session  \\\n",
              "0                   3.529027  macintosh                 0.0   \n",
              "1                   9.124198      other                 1.0   \n",
              "2                  11.386064    windows                 0.0   \n",
              "3                   5.075136      linux                 0.0   \n",
              "4                   5.951549      other                 1.0   \n",
              "\n",
              "   device_distinct_emails_8w  device_fraud_count      referred  under_loan  \\\n",
              "0                          1                   0  not referred           0   \n",
              "1                          1                   0  not referred           1   \n",
              "2                          1                   0  not referred           0   \n",
              "3                          1                   0      referred           0   \n",
              "4                          1                   0  not referred           0   \n",
              "\n",
              "   canceled_other_cards default_loan_or_card  month  \n",
              "0                    no                   no      4  \n",
              "1                    no                   no      0  \n",
              "2                    no                   no      2  \n",
              "3                    no                   no      2  \n",
              "4                    no                   no      3  \n",
              "\n",
              "[5 rows x 36 columns]"
            ],
            "text/html": [
              "\n",
              "  <div id=\"df-542ef8f5-0992-4a62-bd74-101a9734538e\">\n",
              "    <div class=\"colab-df-container\">\n",
              "      <div>\n",
              "<style scoped>\n",
              "    .dataframe tbody tr th:only-of-type {\n",
              "        vertical-align: middle;\n",
              "    }\n",
              "\n",
              "    .dataframe tbody tr th {\n",
              "        vertical-align: top;\n",
              "    }\n",
              "\n",
              "    .dataframe thead th {\n",
              "        text-align: right;\n",
              "    }\n",
              "</style>\n",
              "<table border=\"1\" class=\"dataframe\">\n",
              "  <thead>\n",
              "    <tr style=\"text-align: right;\">\n",
              "      <th></th>\n",
              "      <th>fraud_bool</th>\n",
              "      <th>income</th>\n",
              "      <th>name_email_similarity</th>\n",
              "      <th>prev_address_months_count</th>\n",
              "      <th>current_address_months_count</th>\n",
              "      <th>customer_age</th>\n",
              "      <th>days_since_request</th>\n",
              "      <th>intended_balcon_amount</th>\n",
              "      <th>payment_type</th>\n",
              "      <th>zip_count_4w</th>\n",
              "      <th>...</th>\n",
              "      <th>session_length_in_minutes</th>\n",
              "      <th>device_os</th>\n",
              "      <th>keep_alive_session</th>\n",
              "      <th>device_distinct_emails_8w</th>\n",
              "      <th>device_fraud_count</th>\n",
              "      <th>referred</th>\n",
              "      <th>under_loan</th>\n",
              "      <th>canceled_other_cards</th>\n",
              "      <th>default_loan_or_card</th>\n",
              "      <th>month</th>\n",
              "    </tr>\n",
              "  </thead>\n",
              "  <tbody>\n",
              "    <tr>\n",
              "      <th>0</th>\n",
              "      <td>0</td>\n",
              "      <td>0.2</td>\n",
              "      <td>0.773992</td>\n",
              "      <td>-1</td>\n",
              "      <td>225</td>\n",
              "      <td>10.0</td>\n",
              "      <td>0.002405</td>\n",
              "      <td>-0.476980</td>\n",
              "      <td>AB</td>\n",
              "      <td>1200</td>\n",
              "      <td>...</td>\n",
              "      <td>3.529027</td>\n",
              "      <td>macintosh</td>\n",
              "      <td>0.0</td>\n",
              "      <td>1</td>\n",
              "      <td>0</td>\n",
              "      <td>not referred</td>\n",
              "      <td>0</td>\n",
              "      <td>no</td>\n",
              "      <td>no</td>\n",
              "      <td>4</td>\n",
              "    </tr>\n",
              "    <tr>\n",
              "      <th>1</th>\n",
              "      <td>0</td>\n",
              "      <td>0.6</td>\n",
              "      <td>0.298966</td>\n",
              "      <td>-1</td>\n",
              "      <td>41</td>\n",
              "      <td>20.0</td>\n",
              "      <td>0.023593</td>\n",
              "      <td>-1.324930</td>\n",
              "      <td>AC</td>\n",
              "      <td>1650</td>\n",
              "      <td>...</td>\n",
              "      <td>9.124198</td>\n",
              "      <td>other</td>\n",
              "      <td>1.0</td>\n",
              "      <td>1</td>\n",
              "      <td>0</td>\n",
              "      <td>not referred</td>\n",
              "      <td>1</td>\n",
              "      <td>no</td>\n",
              "      <td>no</td>\n",
              "      <td>0</td>\n",
              "    </tr>\n",
              "    <tr>\n",
              "      <th>2</th>\n",
              "      <td>1</td>\n",
              "      <td>0.9</td>\n",
              "      <td>0.591834</td>\n",
              "      <td>-1</td>\n",
              "      <td>60</td>\n",
              "      <td>20.0</td>\n",
              "      <td>0.011150</td>\n",
              "      <td>-0.910277</td>\n",
              "      <td>AB</td>\n",
              "      <td>3130</td>\n",
              "      <td>...</td>\n",
              "      <td>11.386064</td>\n",
              "      <td>windows</td>\n",
              "      <td>0.0</td>\n",
              "      <td>1</td>\n",
              "      <td>0</td>\n",
              "      <td>not referred</td>\n",
              "      <td>0</td>\n",
              "      <td>no</td>\n",
              "      <td>no</td>\n",
              "      <td>2</td>\n",
              "    </tr>\n",
              "    <tr>\n",
              "      <th>3</th>\n",
              "      <td>0</td>\n",
              "      <td>0.1</td>\n",
              "      <td>0.208465</td>\n",
              "      <td>-1</td>\n",
              "      <td>61</td>\n",
              "      <td>40.0</td>\n",
              "      <td>0.008276</td>\n",
              "      <td>-1.113259</td>\n",
              "      <td>AB</td>\n",
              "      <td>1242</td>\n",
              "      <td>...</td>\n",
              "      <td>5.075136</td>\n",
              "      <td>linux</td>\n",
              "      <td>0.0</td>\n",
              "      <td>1</td>\n",
              "      <td>0</td>\n",
              "      <td>referred</td>\n",
              "      <td>0</td>\n",
              "      <td>no</td>\n",
              "      <td>no</td>\n",
              "      <td>2</td>\n",
              "    </tr>\n",
              "    <tr>\n",
              "      <th>4</th>\n",
              "      <td>0</td>\n",
              "      <td>0.7</td>\n",
              "      <td>0.183629</td>\n",
              "      <td>29</td>\n",
              "      <td>13</td>\n",
              "      <td>30.0</td>\n",
              "      <td>5.859822</td>\n",
              "      <td>-1.136572</td>\n",
              "      <td>AA</td>\n",
              "      <td>1499</td>\n",
              "      <td>...</td>\n",
              "      <td>5.951549</td>\n",
              "      <td>other</td>\n",
              "      <td>1.0</td>\n",
              "      <td>1</td>\n",
              "      <td>0</td>\n",
              "      <td>not referred</td>\n",
              "      <td>0</td>\n",
              "      <td>no</td>\n",
              "      <td>no</td>\n",
              "      <td>3</td>\n",
              "    </tr>\n",
              "  </tbody>\n",
              "</table>\n",
              "<p>5 rows × 36 columns</p>\n",
              "</div>\n",
              "      <button class=\"colab-df-convert\" onclick=\"convertToInteractive('df-542ef8f5-0992-4a62-bd74-101a9734538e')\"\n",
              "              title=\"Convert this dataframe to an interactive table.\"\n",
              "              style=\"display:none;\">\n",
              "        \n",
              "  <svg xmlns=\"http://www.w3.org/2000/svg\" height=\"24px\"viewBox=\"0 0 24 24\"\n",
              "       width=\"24px\">\n",
              "    <path d=\"M0 0h24v24H0V0z\" fill=\"none\"/>\n",
              "    <path d=\"M18.56 5.44l.94 2.06.94-2.06 2.06-.94-2.06-.94-.94-2.06-.94 2.06-2.06.94zm-11 1L8.5 8.5l.94-2.06 2.06-.94-2.06-.94L8.5 2.5l-.94 2.06-2.06.94zm10 10l.94 2.06.94-2.06 2.06-.94-2.06-.94-.94-2.06-.94 2.06-2.06.94z\"/><path d=\"M17.41 7.96l-1.37-1.37c-.4-.4-.92-.59-1.43-.59-.52 0-1.04.2-1.43.59L10.3 9.45l-7.72 7.72c-.78.78-.78 2.05 0 2.83L4 21.41c.39.39.9.59 1.41.59.51 0 1.02-.2 1.41-.59l7.78-7.78 2.81-2.81c.8-.78.8-2.07 0-2.86zM5.41 20L4 18.59l7.72-7.72 1.47 1.35L5.41 20z\"/>\n",
              "  </svg>\n",
              "      </button>\n",
              "      \n",
              "  <style>\n",
              "    .colab-df-container {\n",
              "      display:flex;\n",
              "      flex-wrap:wrap;\n",
              "      gap: 12px;\n",
              "    }\n",
              "\n",
              "    .colab-df-convert {\n",
              "      background-color: #E8F0FE;\n",
              "      border: none;\n",
              "      border-radius: 50%;\n",
              "      cursor: pointer;\n",
              "      display: none;\n",
              "      fill: #1967D2;\n",
              "      height: 32px;\n",
              "      padding: 0 0 0 0;\n",
              "      width: 32px;\n",
              "    }\n",
              "\n",
              "    .colab-df-convert:hover {\n",
              "      background-color: #E2EBFA;\n",
              "      box-shadow: 0px 1px 2px rgba(60, 64, 67, 0.3), 0px 1px 3px 1px rgba(60, 64, 67, 0.15);\n",
              "      fill: #174EA6;\n",
              "    }\n",
              "\n",
              "    [theme=dark] .colab-df-convert {\n",
              "      background-color: #3B4455;\n",
              "      fill: #D2E3FC;\n",
              "    }\n",
              "\n",
              "    [theme=dark] .colab-df-convert:hover {\n",
              "      background-color: #434B5C;\n",
              "      box-shadow: 0px 1px 3px 1px rgba(0, 0, 0, 0.15);\n",
              "      filter: drop-shadow(0px 1px 2px rgba(0, 0, 0, 0.3));\n",
              "      fill: #FFFFFF;\n",
              "    }\n",
              "  </style>\n",
              "\n",
              "      <script>\n",
              "        const buttonEl =\n",
              "          document.querySelector('#df-542ef8f5-0992-4a62-bd74-101a9734538e button.colab-df-convert');\n",
              "        buttonEl.style.display =\n",
              "          google.colab.kernel.accessAllowed ? 'block' : 'none';\n",
              "\n",
              "        async function convertToInteractive(key) {\n",
              "          const element = document.querySelector('#df-542ef8f5-0992-4a62-bd74-101a9734538e');\n",
              "          const dataTable =\n",
              "            await google.colab.kernel.invokeFunction('convertToInteractive',\n",
              "                                                     [key], {});\n",
              "          if (!dataTable) return;\n",
              "\n",
              "          const docLinkHtml = 'Like what you see? Visit the ' +\n",
              "            '<a target=\"_blank\" href=https://colab.research.google.com/notebooks/data_table.ipynb>data table notebook</a>'\n",
              "            + ' to learn more about interactive tables.';\n",
              "          element.innerHTML = '';\n",
              "          dataTable['output_type'] = 'display_data';\n",
              "          await google.colab.output.renderOutput(dataTable, element);\n",
              "          const docLink = document.createElement('div');\n",
              "          docLink.innerHTML = docLinkHtml;\n",
              "          element.appendChild(docLink);\n",
              "        }\n",
              "      </script>\n",
              "    </div>\n",
              "  </div>\n",
              "  "
            ]
          },
          "metadata": {},
          "execution_count": 3
        }
      ],
      "source": [
        "# Importing dataset\n",
        "try:\n",
        "  data = '/content/drive/MyDrive/bank_fraud_train.csv'\n",
        "  df = pd.read_csv(data, na_values = '-', index_col = 0 )\n",
        "  df.shape == (100000, 36)\n",
        "\n",
        "except:\n",
        "  data = '/content/drive/MyDrive/comp2_data.csv'\n",
        "  df = pd.read_csv(data, na_values = '-', index_col = 0 )\n",
        "  df.shape == (100000, 36)\n",
        "\n",
        "# Original data copy\n",
        "df1 = df.copy()\n",
        "\n",
        "df.shape\n",
        "df.head()"
      ]
    },
    {
      "cell_type": "markdown",
      "metadata": {
        "id": "3W56dZCGWDyh"
      },
      "source": [
        "#Section 2: EDA 🌎"
      ]
    },
    {
      "cell_type": "code",
      "execution_count": null,
      "metadata": {
        "colab": {
          "base_uri": "https://localhost:8080/",
          "height": 917
        },
        "id": "jOYAEuveptk2",
        "outputId": "b13dc278-0d86-4e75-ca19-3860fd7e9783"
      },
      "outputs": [
        {
          "output_type": "execute_result",
          "data": {
            "text/plain": [
              "                                     count         mean          std  \\\n",
              "fraud_bool                        100000.0     0.011030     0.104444   \n",
              "income                            100000.0     0.562182     0.290304   \n",
              "name_email_similarity             100000.0     0.493070     0.288987   \n",
              "prev_address_months_count         100000.0    16.891870    44.635874   \n",
              "current_address_months_count      100000.0    86.620790    88.440760   \n",
              "customer_age                       97979.0    33.753457    12.043043   \n",
              "days_since_request                100000.0     1.020236     5.378612   \n",
              "intended_balcon_amount            100000.0     8.655790    20.235438   \n",
              "zip_count_4w                      100000.0  1565.038010   999.471135   \n",
              "velocity_6h                       100000.0  5675.374572  3005.438051   \n",
              "velocity_24h                      100000.0  4773.754080  1481.668099   \n",
              "velocity_4w                        97979.0  4857.713225   919.587828   \n",
              "bank_branch_count_8w              100000.0   185.577750   462.010029   \n",
              "date_of_birth_distinct_emails_4w  100000.0     9.500110     5.043926   \n",
              "credit_risk_score                 100000.0   131.065960    69.311911   \n",
              "email_is_free                     100000.0     0.526580     0.499296   \n",
              "phone_home_valid                  100000.0     0.416390     0.492962   \n",
              "phone_mobile_valid                100000.0     0.889850     0.313078   \n",
              "bank_months_count                 100000.0    10.856690    12.105860   \n",
              "has_other_cards                   100000.0     0.223240     0.416420   \n",
              "proposed_credit_limit             100000.0   515.649700   487.139529   \n",
              "foreign_request                    97979.0     0.025403     0.157348   \n",
              "session_length_in_minutes         100000.0     7.534830     7.965238   \n",
              "keep_alive_session                 97979.0     0.576787     0.494071   \n",
              "device_distinct_emails_8w         100000.0     1.018360     0.181888   \n",
              "device_fraud_count                100000.0     0.000000     0.000000   \n",
              "under_loan                        100000.0     0.344340     0.475155   \n",
              "month                             100000.0     3.288700     2.210027   \n",
              "\n",
              "                                           min          25%          50%  \\\n",
              "fraud_bool                        0.000000e+00     0.000000     0.000000   \n",
              "income                            1.000000e-01     0.300000     0.600000   \n",
              "name_email_similarity             1.900000e-05     0.224773     0.491834   \n",
              "prev_address_months_count        -1.000000e+00    -1.000000    -1.000000   \n",
              "current_address_months_count     -1.000000e+00    19.000000    52.000000   \n",
              "customer_age                      1.000000e+01    20.000000    30.000000   \n",
              "days_since_request                3.140000e-07     0.007186     0.015189   \n",
              "intended_balcon_amount           -1.553055e+01    -1.181106    -0.829218   \n",
              "zip_count_4w                      2.000000e+00   891.000000  1258.000000   \n",
              "velocity_6h                      -1.069783e+02  3458.574569  5335.259018   \n",
              "velocity_24h                      1.366476e+03  3595.074972  4753.690116   \n",
              "velocity_4w                       2.980376e+03  4269.789495  4914.705023   \n",
              "bank_branch_count_8w              0.000000e+00     1.000000     9.000000   \n",
              "date_of_birth_distinct_emails_4w  0.000000e+00     6.000000     9.000000   \n",
              "credit_risk_score                -1.640000e+02    83.000000   123.000000   \n",
              "email_is_free                     0.000000e+00     0.000000     1.000000   \n",
              "phone_home_valid                  0.000000e+00     0.000000     0.000000   \n",
              "phone_mobile_valid                0.000000e+00     1.000000     1.000000   \n",
              "bank_months_count                -1.000000e+00    -1.000000     5.000000   \n",
              "has_other_cards                   0.000000e+00     0.000000     0.000000   \n",
              "proposed_credit_limit             1.900000e+02   200.000000   200.000000   \n",
              "foreign_request                   0.000000e+00     0.000000     0.000000   \n",
              "session_length_in_minutes        -1.000000e+00     3.107444     5.126542   \n",
              "keep_alive_session                0.000000e+00     0.000000     1.000000   \n",
              "device_distinct_emails_8w        -1.000000e+00     1.000000     1.000000   \n",
              "device_fraud_count                0.000000e+00     0.000000     0.000000   \n",
              "under_loan                        0.000000e+00     0.000000     0.000000   \n",
              "month                             0.000000e+00     1.000000     3.000000   \n",
              "\n",
              "                                          75%           max  \n",
              "fraud_bool                           0.000000      1.000000  \n",
              "income                               0.800000      0.900000  \n",
              "name_email_similarity                0.754533      0.999999  \n",
              "prev_address_months_count           12.000000    375.000000  \n",
              "current_address_months_count       130.000000    413.000000  \n",
              "customer_age                        40.000000     90.000000  \n",
              "days_since_request                   0.026278     75.223008  \n",
              "intended_balcon_amount               5.196816    111.951639  \n",
              "zip_count_4w                      1931.000000   6506.000000  \n",
              "velocity_6h                       7670.502627  16605.497940  \n",
              "velocity_24h                      5760.821605   9506.896596  \n",
              "velocity_4w                       5485.299680   6988.564717  \n",
              "bank_branch_count_8w                26.000000   2327.000000  \n",
              "date_of_birth_distinct_emails_4w    13.000000     37.000000  \n",
              "credit_risk_score                  178.000000    386.000000  \n",
              "email_is_free                        1.000000      1.000000  \n",
              "phone_home_valid                     1.000000      1.000000  \n",
              "phone_mobile_valid                   1.000000      1.000000  \n",
              "bank_months_count                   25.000000     32.000000  \n",
              "has_other_cards                      0.000000      1.000000  \n",
              "proposed_credit_limit              500.000000   2100.000000  \n",
              "foreign_request                      0.000000      1.000000  \n",
              "session_length_in_minutes            8.856321     80.947927  \n",
              "keep_alive_session                   1.000000      1.000000  \n",
              "device_distinct_emails_8w            1.000000      2.000000  \n",
              "device_fraud_count                   0.000000      0.000000  \n",
              "under_loan                           1.000000      1.000000  \n",
              "month                                5.000000      7.000000  "
            ],
            "text/html": [
              "\n",
              "  <div id=\"df-3fbc1107-e208-4299-8799-29aa211109d4\">\n",
              "    <div class=\"colab-df-container\">\n",
              "      <div>\n",
              "<style scoped>\n",
              "    .dataframe tbody tr th:only-of-type {\n",
              "        vertical-align: middle;\n",
              "    }\n",
              "\n",
              "    .dataframe tbody tr th {\n",
              "        vertical-align: top;\n",
              "    }\n",
              "\n",
              "    .dataframe thead th {\n",
              "        text-align: right;\n",
              "    }\n",
              "</style>\n",
              "<table border=\"1\" class=\"dataframe\">\n",
              "  <thead>\n",
              "    <tr style=\"text-align: right;\">\n",
              "      <th></th>\n",
              "      <th>count</th>\n",
              "      <th>mean</th>\n",
              "      <th>std</th>\n",
              "      <th>min</th>\n",
              "      <th>25%</th>\n",
              "      <th>50%</th>\n",
              "      <th>75%</th>\n",
              "      <th>max</th>\n",
              "    </tr>\n",
              "  </thead>\n",
              "  <tbody>\n",
              "    <tr>\n",
              "      <th>fraud_bool</th>\n",
              "      <td>100000.0</td>\n",
              "      <td>0.011030</td>\n",
              "      <td>0.104444</td>\n",
              "      <td>0.000000e+00</td>\n",
              "      <td>0.000000</td>\n",
              "      <td>0.000000</td>\n",
              "      <td>0.000000</td>\n",
              "      <td>1.000000</td>\n",
              "    </tr>\n",
              "    <tr>\n",
              "      <th>income</th>\n",
              "      <td>100000.0</td>\n",
              "      <td>0.562182</td>\n",
              "      <td>0.290304</td>\n",
              "      <td>1.000000e-01</td>\n",
              "      <td>0.300000</td>\n",
              "      <td>0.600000</td>\n",
              "      <td>0.800000</td>\n",
              "      <td>0.900000</td>\n",
              "    </tr>\n",
              "    <tr>\n",
              "      <th>name_email_similarity</th>\n",
              "      <td>100000.0</td>\n",
              "      <td>0.493070</td>\n",
              "      <td>0.288987</td>\n",
              "      <td>1.900000e-05</td>\n",
              "      <td>0.224773</td>\n",
              "      <td>0.491834</td>\n",
              "      <td>0.754533</td>\n",
              "      <td>0.999999</td>\n",
              "    </tr>\n",
              "    <tr>\n",
              "      <th>prev_address_months_count</th>\n",
              "      <td>100000.0</td>\n",
              "      <td>16.891870</td>\n",
              "      <td>44.635874</td>\n",
              "      <td>-1.000000e+00</td>\n",
              "      <td>-1.000000</td>\n",
              "      <td>-1.000000</td>\n",
              "      <td>12.000000</td>\n",
              "      <td>375.000000</td>\n",
              "    </tr>\n",
              "    <tr>\n",
              "      <th>current_address_months_count</th>\n",
              "      <td>100000.0</td>\n",
              "      <td>86.620790</td>\n",
              "      <td>88.440760</td>\n",
              "      <td>-1.000000e+00</td>\n",
              "      <td>19.000000</td>\n",
              "      <td>52.000000</td>\n",
              "      <td>130.000000</td>\n",
              "      <td>413.000000</td>\n",
              "    </tr>\n",
              "    <tr>\n",
              "      <th>customer_age</th>\n",
              "      <td>97979.0</td>\n",
              "      <td>33.753457</td>\n",
              "      <td>12.043043</td>\n",
              "      <td>1.000000e+01</td>\n",
              "      <td>20.000000</td>\n",
              "      <td>30.000000</td>\n",
              "      <td>40.000000</td>\n",
              "      <td>90.000000</td>\n",
              "    </tr>\n",
              "    <tr>\n",
              "      <th>days_since_request</th>\n",
              "      <td>100000.0</td>\n",
              "      <td>1.020236</td>\n",
              "      <td>5.378612</td>\n",
              "      <td>3.140000e-07</td>\n",
              "      <td>0.007186</td>\n",
              "      <td>0.015189</td>\n",
              "      <td>0.026278</td>\n",
              "      <td>75.223008</td>\n",
              "    </tr>\n",
              "    <tr>\n",
              "      <th>intended_balcon_amount</th>\n",
              "      <td>100000.0</td>\n",
              "      <td>8.655790</td>\n",
              "      <td>20.235438</td>\n",
              "      <td>-1.553055e+01</td>\n",
              "      <td>-1.181106</td>\n",
              "      <td>-0.829218</td>\n",
              "      <td>5.196816</td>\n",
              "      <td>111.951639</td>\n",
              "    </tr>\n",
              "    <tr>\n",
              "      <th>zip_count_4w</th>\n",
              "      <td>100000.0</td>\n",
              "      <td>1565.038010</td>\n",
              "      <td>999.471135</td>\n",
              "      <td>2.000000e+00</td>\n",
              "      <td>891.000000</td>\n",
              "      <td>1258.000000</td>\n",
              "      <td>1931.000000</td>\n",
              "      <td>6506.000000</td>\n",
              "    </tr>\n",
              "    <tr>\n",
              "      <th>velocity_6h</th>\n",
              "      <td>100000.0</td>\n",
              "      <td>5675.374572</td>\n",
              "      <td>3005.438051</td>\n",
              "      <td>-1.069783e+02</td>\n",
              "      <td>3458.574569</td>\n",
              "      <td>5335.259018</td>\n",
              "      <td>7670.502627</td>\n",
              "      <td>16605.497940</td>\n",
              "    </tr>\n",
              "    <tr>\n",
              "      <th>velocity_24h</th>\n",
              "      <td>100000.0</td>\n",
              "      <td>4773.754080</td>\n",
              "      <td>1481.668099</td>\n",
              "      <td>1.366476e+03</td>\n",
              "      <td>3595.074972</td>\n",
              "      <td>4753.690116</td>\n",
              "      <td>5760.821605</td>\n",
              "      <td>9506.896596</td>\n",
              "    </tr>\n",
              "    <tr>\n",
              "      <th>velocity_4w</th>\n",
              "      <td>97979.0</td>\n",
              "      <td>4857.713225</td>\n",
              "      <td>919.587828</td>\n",
              "      <td>2.980376e+03</td>\n",
              "      <td>4269.789495</td>\n",
              "      <td>4914.705023</td>\n",
              "      <td>5485.299680</td>\n",
              "      <td>6988.564717</td>\n",
              "    </tr>\n",
              "    <tr>\n",
              "      <th>bank_branch_count_8w</th>\n",
              "      <td>100000.0</td>\n",
              "      <td>185.577750</td>\n",
              "      <td>462.010029</td>\n",
              "      <td>0.000000e+00</td>\n",
              "      <td>1.000000</td>\n",
              "      <td>9.000000</td>\n",
              "      <td>26.000000</td>\n",
              "      <td>2327.000000</td>\n",
              "    </tr>\n",
              "    <tr>\n",
              "      <th>date_of_birth_distinct_emails_4w</th>\n",
              "      <td>100000.0</td>\n",
              "      <td>9.500110</td>\n",
              "      <td>5.043926</td>\n",
              "      <td>0.000000e+00</td>\n",
              "      <td>6.000000</td>\n",
              "      <td>9.000000</td>\n",
              "      <td>13.000000</td>\n",
              "      <td>37.000000</td>\n",
              "    </tr>\n",
              "    <tr>\n",
              "      <th>credit_risk_score</th>\n",
              "      <td>100000.0</td>\n",
              "      <td>131.065960</td>\n",
              "      <td>69.311911</td>\n",
              "      <td>-1.640000e+02</td>\n",
              "      <td>83.000000</td>\n",
              "      <td>123.000000</td>\n",
              "      <td>178.000000</td>\n",
              "      <td>386.000000</td>\n",
              "    </tr>\n",
              "    <tr>\n",
              "      <th>email_is_free</th>\n",
              "      <td>100000.0</td>\n",
              "      <td>0.526580</td>\n",
              "      <td>0.499296</td>\n",
              "      <td>0.000000e+00</td>\n",
              "      <td>0.000000</td>\n",
              "      <td>1.000000</td>\n",
              "      <td>1.000000</td>\n",
              "      <td>1.000000</td>\n",
              "    </tr>\n",
              "    <tr>\n",
              "      <th>phone_home_valid</th>\n",
              "      <td>100000.0</td>\n",
              "      <td>0.416390</td>\n",
              "      <td>0.492962</td>\n",
              "      <td>0.000000e+00</td>\n",
              "      <td>0.000000</td>\n",
              "      <td>0.000000</td>\n",
              "      <td>1.000000</td>\n",
              "      <td>1.000000</td>\n",
              "    </tr>\n",
              "    <tr>\n",
              "      <th>phone_mobile_valid</th>\n",
              "      <td>100000.0</td>\n",
              "      <td>0.889850</td>\n",
              "      <td>0.313078</td>\n",
              "      <td>0.000000e+00</td>\n",
              "      <td>1.000000</td>\n",
              "      <td>1.000000</td>\n",
              "      <td>1.000000</td>\n",
              "      <td>1.000000</td>\n",
              "    </tr>\n",
              "    <tr>\n",
              "      <th>bank_months_count</th>\n",
              "      <td>100000.0</td>\n",
              "      <td>10.856690</td>\n",
              "      <td>12.105860</td>\n",
              "      <td>-1.000000e+00</td>\n",
              "      <td>-1.000000</td>\n",
              "      <td>5.000000</td>\n",
              "      <td>25.000000</td>\n",
              "      <td>32.000000</td>\n",
              "    </tr>\n",
              "    <tr>\n",
              "      <th>has_other_cards</th>\n",
              "      <td>100000.0</td>\n",
              "      <td>0.223240</td>\n",
              "      <td>0.416420</td>\n",
              "      <td>0.000000e+00</td>\n",
              "      <td>0.000000</td>\n",
              "      <td>0.000000</td>\n",
              "      <td>0.000000</td>\n",
              "      <td>1.000000</td>\n",
              "    </tr>\n",
              "    <tr>\n",
              "      <th>proposed_credit_limit</th>\n",
              "      <td>100000.0</td>\n",
              "      <td>515.649700</td>\n",
              "      <td>487.139529</td>\n",
              "      <td>1.900000e+02</td>\n",
              "      <td>200.000000</td>\n",
              "      <td>200.000000</td>\n",
              "      <td>500.000000</td>\n",
              "      <td>2100.000000</td>\n",
              "    </tr>\n",
              "    <tr>\n",
              "      <th>foreign_request</th>\n",
              "      <td>97979.0</td>\n",
              "      <td>0.025403</td>\n",
              "      <td>0.157348</td>\n",
              "      <td>0.000000e+00</td>\n",
              "      <td>0.000000</td>\n",
              "      <td>0.000000</td>\n",
              "      <td>0.000000</td>\n",
              "      <td>1.000000</td>\n",
              "    </tr>\n",
              "    <tr>\n",
              "      <th>session_length_in_minutes</th>\n",
              "      <td>100000.0</td>\n",
              "      <td>7.534830</td>\n",
              "      <td>7.965238</td>\n",
              "      <td>-1.000000e+00</td>\n",
              "      <td>3.107444</td>\n",
              "      <td>5.126542</td>\n",
              "      <td>8.856321</td>\n",
              "      <td>80.947927</td>\n",
              "    </tr>\n",
              "    <tr>\n",
              "      <th>keep_alive_session</th>\n",
              "      <td>97979.0</td>\n",
              "      <td>0.576787</td>\n",
              "      <td>0.494071</td>\n",
              "      <td>0.000000e+00</td>\n",
              "      <td>0.000000</td>\n",
              "      <td>1.000000</td>\n",
              "      <td>1.000000</td>\n",
              "      <td>1.000000</td>\n",
              "    </tr>\n",
              "    <tr>\n",
              "      <th>device_distinct_emails_8w</th>\n",
              "      <td>100000.0</td>\n",
              "      <td>1.018360</td>\n",
              "      <td>0.181888</td>\n",
              "      <td>-1.000000e+00</td>\n",
              "      <td>1.000000</td>\n",
              "      <td>1.000000</td>\n",
              "      <td>1.000000</td>\n",
              "      <td>2.000000</td>\n",
              "    </tr>\n",
              "    <tr>\n",
              "      <th>device_fraud_count</th>\n",
              "      <td>100000.0</td>\n",
              "      <td>0.000000</td>\n",
              "      <td>0.000000</td>\n",
              "      <td>0.000000e+00</td>\n",
              "      <td>0.000000</td>\n",
              "      <td>0.000000</td>\n",
              "      <td>0.000000</td>\n",
              "      <td>0.000000</td>\n",
              "    </tr>\n",
              "    <tr>\n",
              "      <th>under_loan</th>\n",
              "      <td>100000.0</td>\n",
              "      <td>0.344340</td>\n",
              "      <td>0.475155</td>\n",
              "      <td>0.000000e+00</td>\n",
              "      <td>0.000000</td>\n",
              "      <td>0.000000</td>\n",
              "      <td>1.000000</td>\n",
              "      <td>1.000000</td>\n",
              "    </tr>\n",
              "    <tr>\n",
              "      <th>month</th>\n",
              "      <td>100000.0</td>\n",
              "      <td>3.288700</td>\n",
              "      <td>2.210027</td>\n",
              "      <td>0.000000e+00</td>\n",
              "      <td>1.000000</td>\n",
              "      <td>3.000000</td>\n",
              "      <td>5.000000</td>\n",
              "      <td>7.000000</td>\n",
              "    </tr>\n",
              "  </tbody>\n",
              "</table>\n",
              "</div>\n",
              "      <button class=\"colab-df-convert\" onclick=\"convertToInteractive('df-3fbc1107-e208-4299-8799-29aa211109d4')\"\n",
              "              title=\"Convert this dataframe to an interactive table.\"\n",
              "              style=\"display:none;\">\n",
              "        \n",
              "  <svg xmlns=\"http://www.w3.org/2000/svg\" height=\"24px\"viewBox=\"0 0 24 24\"\n",
              "       width=\"24px\">\n",
              "    <path d=\"M0 0h24v24H0V0z\" fill=\"none\"/>\n",
              "    <path d=\"M18.56 5.44l.94 2.06.94-2.06 2.06-.94-2.06-.94-.94-2.06-.94 2.06-2.06.94zm-11 1L8.5 8.5l.94-2.06 2.06-.94-2.06-.94L8.5 2.5l-.94 2.06-2.06.94zm10 10l.94 2.06.94-2.06 2.06-.94-2.06-.94-.94-2.06-.94 2.06-2.06.94z\"/><path d=\"M17.41 7.96l-1.37-1.37c-.4-.4-.92-.59-1.43-.59-.52 0-1.04.2-1.43.59L10.3 9.45l-7.72 7.72c-.78.78-.78 2.05 0 2.83L4 21.41c.39.39.9.59 1.41.59.51 0 1.02-.2 1.41-.59l7.78-7.78 2.81-2.81c.8-.78.8-2.07 0-2.86zM5.41 20L4 18.59l7.72-7.72 1.47 1.35L5.41 20z\"/>\n",
              "  </svg>\n",
              "      </button>\n",
              "      \n",
              "  <style>\n",
              "    .colab-df-container {\n",
              "      display:flex;\n",
              "      flex-wrap:wrap;\n",
              "      gap: 12px;\n",
              "    }\n",
              "\n",
              "    .colab-df-convert {\n",
              "      background-color: #E8F0FE;\n",
              "      border: none;\n",
              "      border-radius: 50%;\n",
              "      cursor: pointer;\n",
              "      display: none;\n",
              "      fill: #1967D2;\n",
              "      height: 32px;\n",
              "      padding: 0 0 0 0;\n",
              "      width: 32px;\n",
              "    }\n",
              "\n",
              "    .colab-df-convert:hover {\n",
              "      background-color: #E2EBFA;\n",
              "      box-shadow: 0px 1px 2px rgba(60, 64, 67, 0.3), 0px 1px 3px 1px rgba(60, 64, 67, 0.15);\n",
              "      fill: #174EA6;\n",
              "    }\n",
              "\n",
              "    [theme=dark] .colab-df-convert {\n",
              "      background-color: #3B4455;\n",
              "      fill: #D2E3FC;\n",
              "    }\n",
              "\n",
              "    [theme=dark] .colab-df-convert:hover {\n",
              "      background-color: #434B5C;\n",
              "      box-shadow: 0px 1px 3px 1px rgba(0, 0, 0, 0.15);\n",
              "      filter: drop-shadow(0px 1px 2px rgba(0, 0, 0, 0.3));\n",
              "      fill: #FFFFFF;\n",
              "    }\n",
              "  </style>\n",
              "\n",
              "      <script>\n",
              "        const buttonEl =\n",
              "          document.querySelector('#df-3fbc1107-e208-4299-8799-29aa211109d4 button.colab-df-convert');\n",
              "        buttonEl.style.display =\n",
              "          google.colab.kernel.accessAllowed ? 'block' : 'none';\n",
              "\n",
              "        async function convertToInteractive(key) {\n",
              "          const element = document.querySelector('#df-3fbc1107-e208-4299-8799-29aa211109d4');\n",
              "          const dataTable =\n",
              "            await google.colab.kernel.invokeFunction('convertToInteractive',\n",
              "                                                     [key], {});\n",
              "          if (!dataTable) return;\n",
              "\n",
              "          const docLinkHtml = 'Like what you see? Visit the ' +\n",
              "            '<a target=\"_blank\" href=https://colab.research.google.com/notebooks/data_table.ipynb>data table notebook</a>'\n",
              "            + ' to learn more about interactive tables.';\n",
              "          element.innerHTML = '';\n",
              "          dataTable['output_type'] = 'display_data';\n",
              "          await google.colab.output.renderOutput(dataTable, element);\n",
              "          const docLink = document.createElement('div');\n",
              "          docLink.innerHTML = docLinkHtml;\n",
              "          element.appendChild(docLink);\n",
              "        }\n",
              "      </script>\n",
              "    </div>\n",
              "  </div>\n",
              "  "
            ]
          },
          "metadata": {},
          "execution_count": 4
        }
      ],
      "source": [
        "# Data overview\n",
        "df.describe().T"
      ]
    },
    {
      "cell_type": "code",
      "execution_count": null,
      "metadata": {
        "colab": {
          "base_uri": "https://localhost:8080/"
        },
        "id": "aXVpm80qr5BT",
        "outputId": "7c5e263c-c1db-439a-f57a-3b759aa0124b"
      },
      "outputs": [
        {
          "output_type": "execute_result",
          "data": {
            "text/plain": [
              "(100000, 36)"
            ]
          },
          "metadata": {},
          "execution_count": 5
        }
      ],
      "source": [
        "# Shape of data\n",
        "df.shape"
      ]
    },
    {
      "cell_type": "code",
      "execution_count": null,
      "metadata": {
        "colab": {
          "base_uri": "https://localhost:8080/"
        },
        "id": "zA6H1fAeLtlm",
        "outputId": "0a5f723d-0ade-473e-a05a-eec8ea0e2f14"
      },
      "outputs": [
        {
          "output_type": "execute_result",
          "data": {
            "text/plain": [
              "fraud_bool                            int64\n",
              "income                              float64\n",
              "name_email_similarity               float64\n",
              "prev_address_months_count             int64\n",
              "current_address_months_count          int64\n",
              "customer_age                        float64\n",
              "days_since_request                  float64\n",
              "intended_balcon_amount              float64\n",
              "payment_type                         object\n",
              "zip_count_4w                          int64\n",
              "velocity_6h                         float64\n",
              "velocity_24h                        float64\n",
              "velocity_4w                         float64\n",
              "bank_branch_count_8w                  int64\n",
              "date_of_birth_distinct_emails_4w      int64\n",
              "employment_status                    object\n",
              "credit_risk_score                     int64\n",
              "email_is_free                         int64\n",
              "housing_status                       object\n",
              "phone_home_valid                      int64\n",
              "phone_mobile_valid                    int64\n",
              "bank_months_count                     int64\n",
              "has_other_cards                       int64\n",
              "proposed_credit_limit                 int64\n",
              "foreign_request                     float64\n",
              "source                               object\n",
              "session_length_in_minutes           float64\n",
              "device_os                            object\n",
              "keep_alive_session                  float64\n",
              "device_distinct_emails_8w             int64\n",
              "device_fraud_count                    int64\n",
              "referred                             object\n",
              "under_loan                            int64\n",
              "canceled_other_cards                 object\n",
              "default_loan_or_card                 object\n",
              "month                                 int64\n",
              "dtype: object"
            ]
          },
          "metadata": {},
          "execution_count": 6
        }
      ],
      "source": [
        "# Overview of datatypes\n",
        "df.dtypes"
      ]
    },
    {
      "cell_type": "markdown",
      "source": [
        "##Continuous"
      ],
      "metadata": {
        "id": "Y1wlG0w8D-kF"
      }
    },
    {
      "cell_type": "code",
      "source": [
        "# Determine average age of customers\n",
        "df['customer_age'].mean()"
      ],
      "metadata": {
        "id": "UcHR6HM6Gsx8"
      },
      "execution_count": null,
      "outputs": []
    },
    {
      "cell_type": "code",
      "execution_count": null,
      "metadata": {
        "colab": {
          "base_uri": "https://localhost:8080/",
          "height": 365
        },
        "id": "kp2CdRX0om_o",
        "outputId": "dd54364f-38ed-49e9-abc2-418f310b70b2"
      },
      "outputs": [
        {
          "output_type": "execute_result",
          "data": {
            "text/plain": [
              "   fraud_bool  income  name_email_similarity  prev_address_months_count  \\\n",
              "0           0     0.2               0.773992                         -1   \n",
              "1           0     0.6               0.298966                         -1   \n",
              "2           1     0.9               0.591834                         -1   \n",
              "3           0     0.1               0.208465                         -1   \n",
              "4           0     0.7               0.183629                         29   \n",
              "\n",
              "   current_address_months_count  customer_age  days_since_request  \\\n",
              "0                           225          10.0            0.002405   \n",
              "1                            41          20.0            0.023593   \n",
              "2                            60          20.0            0.011150   \n",
              "3                            61          40.0            0.008276   \n",
              "4                            13          30.0            5.859822   \n",
              "\n",
              "   intended_balcon_amount payment_type  zip_count_4w  ...  device_os  \\\n",
              "0               -0.476980           AB          1200  ...  macintosh   \n",
              "1               -1.324930           AC          1650  ...      other   \n",
              "2               -0.910277           AB          3130  ...    windows   \n",
              "3               -1.113259           AB          1242  ...      linux   \n",
              "4               -1.136572           AA          1499  ...      other   \n",
              "\n",
              "   keep_alive_session  device_distinct_emails_8w  device_fraud_count  \\\n",
              "0                 0.0                          1                   0   \n",
              "1                 1.0                          1                   0   \n",
              "2                 0.0                          1                   0   \n",
              "3                 0.0                          1                   0   \n",
              "4                 1.0                          1                   0   \n",
              "\n",
              "       referred under_loan  canceled_other_cards  default_loan_or_card month  \\\n",
              "0  not referred          0                    no                    no     4   \n",
              "1  not referred          1                    no                    no     0   \n",
              "2  not referred          0                    no                    no     2   \n",
              "3      referred          0                    no                    no     2   \n",
              "4  not referred          0                    no                    no     3   \n",
              "\n",
              "   customer_age_bin  \n",
              "0                 0  \n",
              "1                 0  \n",
              "2                 0  \n",
              "3                 1  \n",
              "4                 0  \n",
              "\n",
              "[5 rows x 37 columns]"
            ],
            "text/html": [
              "\n",
              "  <div id=\"df-ef28e0c0-6604-43d4-adfb-6d56ec0e58f0\">\n",
              "    <div class=\"colab-df-container\">\n",
              "      <div>\n",
              "<style scoped>\n",
              "    .dataframe tbody tr th:only-of-type {\n",
              "        vertical-align: middle;\n",
              "    }\n",
              "\n",
              "    .dataframe tbody tr th {\n",
              "        vertical-align: top;\n",
              "    }\n",
              "\n",
              "    .dataframe thead th {\n",
              "        text-align: right;\n",
              "    }\n",
              "</style>\n",
              "<table border=\"1\" class=\"dataframe\">\n",
              "  <thead>\n",
              "    <tr style=\"text-align: right;\">\n",
              "      <th></th>\n",
              "      <th>fraud_bool</th>\n",
              "      <th>income</th>\n",
              "      <th>name_email_similarity</th>\n",
              "      <th>prev_address_months_count</th>\n",
              "      <th>current_address_months_count</th>\n",
              "      <th>customer_age</th>\n",
              "      <th>days_since_request</th>\n",
              "      <th>intended_balcon_amount</th>\n",
              "      <th>payment_type</th>\n",
              "      <th>zip_count_4w</th>\n",
              "      <th>...</th>\n",
              "      <th>device_os</th>\n",
              "      <th>keep_alive_session</th>\n",
              "      <th>device_distinct_emails_8w</th>\n",
              "      <th>device_fraud_count</th>\n",
              "      <th>referred</th>\n",
              "      <th>under_loan</th>\n",
              "      <th>canceled_other_cards</th>\n",
              "      <th>default_loan_or_card</th>\n",
              "      <th>month</th>\n",
              "      <th>customer_age_bin</th>\n",
              "    </tr>\n",
              "  </thead>\n",
              "  <tbody>\n",
              "    <tr>\n",
              "      <th>0</th>\n",
              "      <td>0</td>\n",
              "      <td>0.2</td>\n",
              "      <td>0.773992</td>\n",
              "      <td>-1</td>\n",
              "      <td>225</td>\n",
              "      <td>10.0</td>\n",
              "      <td>0.002405</td>\n",
              "      <td>-0.476980</td>\n",
              "      <td>AB</td>\n",
              "      <td>1200</td>\n",
              "      <td>...</td>\n",
              "      <td>macintosh</td>\n",
              "      <td>0.0</td>\n",
              "      <td>1</td>\n",
              "      <td>0</td>\n",
              "      <td>not referred</td>\n",
              "      <td>0</td>\n",
              "      <td>no</td>\n",
              "      <td>no</td>\n",
              "      <td>4</td>\n",
              "      <td>0</td>\n",
              "    </tr>\n",
              "    <tr>\n",
              "      <th>1</th>\n",
              "      <td>0</td>\n",
              "      <td>0.6</td>\n",
              "      <td>0.298966</td>\n",
              "      <td>-1</td>\n",
              "      <td>41</td>\n",
              "      <td>20.0</td>\n",
              "      <td>0.023593</td>\n",
              "      <td>-1.324930</td>\n",
              "      <td>AC</td>\n",
              "      <td>1650</td>\n",
              "      <td>...</td>\n",
              "      <td>other</td>\n",
              "      <td>1.0</td>\n",
              "      <td>1</td>\n",
              "      <td>0</td>\n",
              "      <td>not referred</td>\n",
              "      <td>1</td>\n",
              "      <td>no</td>\n",
              "      <td>no</td>\n",
              "      <td>0</td>\n",
              "      <td>0</td>\n",
              "    </tr>\n",
              "    <tr>\n",
              "      <th>2</th>\n",
              "      <td>1</td>\n",
              "      <td>0.9</td>\n",
              "      <td>0.591834</td>\n",
              "      <td>-1</td>\n",
              "      <td>60</td>\n",
              "      <td>20.0</td>\n",
              "      <td>0.011150</td>\n",
              "      <td>-0.910277</td>\n",
              "      <td>AB</td>\n",
              "      <td>3130</td>\n",
              "      <td>...</td>\n",
              "      <td>windows</td>\n",
              "      <td>0.0</td>\n",
              "      <td>1</td>\n",
              "      <td>0</td>\n",
              "      <td>not referred</td>\n",
              "      <td>0</td>\n",
              "      <td>no</td>\n",
              "      <td>no</td>\n",
              "      <td>2</td>\n",
              "      <td>0</td>\n",
              "    </tr>\n",
              "    <tr>\n",
              "      <th>3</th>\n",
              "      <td>0</td>\n",
              "      <td>0.1</td>\n",
              "      <td>0.208465</td>\n",
              "      <td>-1</td>\n",
              "      <td>61</td>\n",
              "      <td>40.0</td>\n",
              "      <td>0.008276</td>\n",
              "      <td>-1.113259</td>\n",
              "      <td>AB</td>\n",
              "      <td>1242</td>\n",
              "      <td>...</td>\n",
              "      <td>linux</td>\n",
              "      <td>0.0</td>\n",
              "      <td>1</td>\n",
              "      <td>0</td>\n",
              "      <td>referred</td>\n",
              "      <td>0</td>\n",
              "      <td>no</td>\n",
              "      <td>no</td>\n",
              "      <td>2</td>\n",
              "      <td>1</td>\n",
              "    </tr>\n",
              "    <tr>\n",
              "      <th>4</th>\n",
              "      <td>0</td>\n",
              "      <td>0.7</td>\n",
              "      <td>0.183629</td>\n",
              "      <td>29</td>\n",
              "      <td>13</td>\n",
              "      <td>30.0</td>\n",
              "      <td>5.859822</td>\n",
              "      <td>-1.136572</td>\n",
              "      <td>AA</td>\n",
              "      <td>1499</td>\n",
              "      <td>...</td>\n",
              "      <td>other</td>\n",
              "      <td>1.0</td>\n",
              "      <td>1</td>\n",
              "      <td>0</td>\n",
              "      <td>not referred</td>\n",
              "      <td>0</td>\n",
              "      <td>no</td>\n",
              "      <td>no</td>\n",
              "      <td>3</td>\n",
              "      <td>0</td>\n",
              "    </tr>\n",
              "  </tbody>\n",
              "</table>\n",
              "<p>5 rows × 37 columns</p>\n",
              "</div>\n",
              "      <button class=\"colab-df-convert\" onclick=\"convertToInteractive('df-ef28e0c0-6604-43d4-adfb-6d56ec0e58f0')\"\n",
              "              title=\"Convert this dataframe to an interactive table.\"\n",
              "              style=\"display:none;\">\n",
              "        \n",
              "  <svg xmlns=\"http://www.w3.org/2000/svg\" height=\"24px\"viewBox=\"0 0 24 24\"\n",
              "       width=\"24px\">\n",
              "    <path d=\"M0 0h24v24H0V0z\" fill=\"none\"/>\n",
              "    <path d=\"M18.56 5.44l.94 2.06.94-2.06 2.06-.94-2.06-.94-.94-2.06-.94 2.06-2.06.94zm-11 1L8.5 8.5l.94-2.06 2.06-.94-2.06-.94L8.5 2.5l-.94 2.06-2.06.94zm10 10l.94 2.06.94-2.06 2.06-.94-2.06-.94-.94-2.06-.94 2.06-2.06.94z\"/><path d=\"M17.41 7.96l-1.37-1.37c-.4-.4-.92-.59-1.43-.59-.52 0-1.04.2-1.43.59L10.3 9.45l-7.72 7.72c-.78.78-.78 2.05 0 2.83L4 21.41c.39.39.9.59 1.41.59.51 0 1.02-.2 1.41-.59l7.78-7.78 2.81-2.81c.8-.78.8-2.07 0-2.86zM5.41 20L4 18.59l7.72-7.72 1.47 1.35L5.41 20z\"/>\n",
              "  </svg>\n",
              "      </button>\n",
              "      \n",
              "  <style>\n",
              "    .colab-df-container {\n",
              "      display:flex;\n",
              "      flex-wrap:wrap;\n",
              "      gap: 12px;\n",
              "    }\n",
              "\n",
              "    .colab-df-convert {\n",
              "      background-color: #E8F0FE;\n",
              "      border: none;\n",
              "      border-radius: 50%;\n",
              "      cursor: pointer;\n",
              "      display: none;\n",
              "      fill: #1967D2;\n",
              "      height: 32px;\n",
              "      padding: 0 0 0 0;\n",
              "      width: 32px;\n",
              "    }\n",
              "\n",
              "    .colab-df-convert:hover {\n",
              "      background-color: #E2EBFA;\n",
              "      box-shadow: 0px 1px 2px rgba(60, 64, 67, 0.3), 0px 1px 3px 1px rgba(60, 64, 67, 0.15);\n",
              "      fill: #174EA6;\n",
              "    }\n",
              "\n",
              "    [theme=dark] .colab-df-convert {\n",
              "      background-color: #3B4455;\n",
              "      fill: #D2E3FC;\n",
              "    }\n",
              "\n",
              "    [theme=dark] .colab-df-convert:hover {\n",
              "      background-color: #434B5C;\n",
              "      box-shadow: 0px 1px 3px 1px rgba(0, 0, 0, 0.15);\n",
              "      filter: drop-shadow(0px 1px 2px rgba(0, 0, 0, 0.3));\n",
              "      fill: #FFFFFF;\n",
              "    }\n",
              "  </style>\n",
              "\n",
              "      <script>\n",
              "        const buttonEl =\n",
              "          document.querySelector('#df-ef28e0c0-6604-43d4-adfb-6d56ec0e58f0 button.colab-df-convert');\n",
              "        buttonEl.style.display =\n",
              "          google.colab.kernel.accessAllowed ? 'block' : 'none';\n",
              "\n",
              "        async function convertToInteractive(key) {\n",
              "          const element = document.querySelector('#df-ef28e0c0-6604-43d4-adfb-6d56ec0e58f0');\n",
              "          const dataTable =\n",
              "            await google.colab.kernel.invokeFunction('convertToInteractive',\n",
              "                                                     [key], {});\n",
              "          if (!dataTable) return;\n",
              "\n",
              "          const docLinkHtml = 'Like what you see? Visit the ' +\n",
              "            '<a target=\"_blank\" href=https://colab.research.google.com/notebooks/data_table.ipynb>data table notebook</a>'\n",
              "            + ' to learn more about interactive tables.';\n",
              "          element.innerHTML = '';\n",
              "          dataTable['output_type'] = 'display_data';\n",
              "          await google.colab.output.renderOutput(dataTable, element);\n",
              "          const docLink = document.createElement('div');\n",
              "          docLink.innerHTML = docLinkHtml;\n",
              "          element.appendChild(docLink);\n",
              "        }\n",
              "      </script>\n",
              "    </div>\n",
              "  </div>\n",
              "  "
            ]
          },
          "metadata": {},
          "execution_count": 7
        }
      ],
      "source": [
        "#Drop customer_age from df_cont- move forward with binary over/under 30\n",
        "df['customer_age_bin']= np.where(df['customer_age']<= 30, 0, 1)\n",
        "df= df.drop(\"customer_age\", axis=1)\n",
        "df.head(5)"
      ]
    },
    {
      "cell_type": "code",
      "execution_count": null,
      "metadata": {
        "id": "NDMo6Oi2ziPn"
      },
      "outputs": [],
      "source": [
        "#Force category datatype on objects\n",
        "df['fraud_bool'] = df['fraud_bool'].astype('category')\n",
        "df['email_is_free'] = df['email_is_free'].astype('category')\n",
        "df['phone_home_valid'] = df['phone_home_valid'].astype('category')\n",
        "df['phone_mobile_valid'] = df['phone_mobile_valid'].astype('category')\n",
        "df['has_other_cards'] = df['has_other_cards'].astype('category')\n",
        "df['foreign_request'] = df['foreign_request'].astype('category')\n",
        "df['keep_alive_session'] = df['keep_alive_session'].astype('category')\n",
        "df['device_fraud_count'] = df['device_fraud_count'].astype('category')\n",
        "df['under_loan'] = df['under_loan'].astype('category')\n",
        "df['canceled_other_cards'] = df['canceled_other_cards'].astype('category')\n",
        "df['default_loan_or_card'] = df['default_loan_or_card'].astype('category')\n",
        "df['payment_type'] = df['payment_type'].astype('category')\n",
        "df['employment_status'] = df['employment_status'].astype('category')\n",
        "df['source'] = df['source'].astype('category')\n",
        "df['referred'] = df['referred'].astype('category')\n",
        "df['device_os'] = df['device_os'].astype('category')\n",
        "df['housing_status'] = df['housing_status'].astype('category')\n",
        "df['customer_age_bin'] = df['customer_age_bin'].astype('category')\n",
        "df['month']=df['month'].astype('category')"
      ]
    },
    {
      "cell_type": "code",
      "execution_count": null,
      "metadata": {
        "colab": {
          "base_uri": "https://localhost:8080/"
        },
        "id": "ChyJa3iN2bzC",
        "outputId": "2334fa79-fef5-40c9-9ff2-f60cc01cedd9"
      },
      "outputs": [
        {
          "output_type": "execute_result",
          "data": {
            "text/plain": [
              "fraud_bool                          category\n",
              "income                               float64\n",
              "name_email_similarity                float64\n",
              "prev_address_months_count              int64\n",
              "current_address_months_count           int64\n",
              "customer_age                         float64\n",
              "days_since_request                   float64\n",
              "intended_balcon_amount               float64\n",
              "payment_type                        category\n",
              "zip_count_4w                           int64\n",
              "velocity_6h                          float64\n",
              "velocity_24h                         float64\n",
              "velocity_4w                          float64\n",
              "bank_branch_count_8w                   int64\n",
              "date_of_birth_distinct_emails_4w       int64\n",
              "employment_status                   category\n",
              "credit_risk_score                      int64\n",
              "email_is_free                       category\n",
              "housing_status                      category\n",
              "phone_home_valid                    category\n",
              "phone_mobile_valid                  category\n",
              "bank_months_count                      int64\n",
              "has_other_cards                     category\n",
              "proposed_credit_limit                  int64\n",
              "foreign_request                     category\n",
              "source                              category\n",
              "session_length_in_minutes            float64\n",
              "device_os                           category\n",
              "keep_alive_session                  category\n",
              "device_distinct_emails_8w              int64\n",
              "device_fraud_count                  category\n",
              "referred                            category\n",
              "under_loan                          category\n",
              "canceled_other_cards                category\n",
              "default_loan_or_card                category\n",
              "month                               category\n",
              "customer_age_bin                    category\n",
              "dtype: object"
            ]
          },
          "metadata": {},
          "execution_count": 9
        }
      ],
      "source": [
        "#Check datatypes to make sure they changed\n",
        "df.dtypes"
      ]
    },
    {
      "cell_type": "code",
      "execution_count": null,
      "metadata": {
        "colab": {
          "base_uri": "https://localhost:8080/"
        },
        "id": "7nG8VvgT3AMr",
        "outputId": "4bbc521b-d45c-4e01-d964-47fa8a299055"
      },
      "outputs": [
        {
          "output_type": "execute_result",
          "data": {
            "text/plain": [
              "income                              float64\n",
              "name_email_similarity               float64\n",
              "prev_address_months_count             int64\n",
              "current_address_months_count          int64\n",
              "customer_age                        float64\n",
              "days_since_request                  float64\n",
              "intended_balcon_amount              float64\n",
              "zip_count_4w                          int64\n",
              "velocity_6h                         float64\n",
              "velocity_24h                        float64\n",
              "velocity_4w                         float64\n",
              "bank_branch_count_8w                  int64\n",
              "date_of_birth_distinct_emails_4w      int64\n",
              "credit_risk_score                     int64\n",
              "bank_months_count                     int64\n",
              "proposed_credit_limit                 int64\n",
              "session_length_in_minutes           float64\n",
              "device_distinct_emails_8w             int64\n",
              "dtype: object"
            ]
          },
          "metadata": {},
          "execution_count": 10
        }
      ],
      "source": [
        "#Check continuous dataframe datatypes\n",
        "#Manual dtype check here\n",
        "df_cont=df.select_dtypes(include = [\"float64\", \"int64\"])\n",
        "df_cont.dtypes"
      ]
    },
    {
      "cell_type": "code",
      "execution_count": null,
      "metadata": {
        "id": "XrzuDD_FtTCR"
      },
      "outputs": [],
      "source": [
        "#Force type int on velocity variables and days since request\n",
        "df_cont['days_since_request']=df_cont['days_since_request'].astype(int)\n",
        "df_cont['velocity_24h']=df_cont['velocity_24h'].astype(int)"
      ]
    },
    {
      "cell_type": "markdown",
      "source": [
        "##Categorical"
      ],
      "metadata": {
        "id": "bTSRxk8SEDc6"
      }
    },
    {
      "cell_type": "code",
      "execution_count": null,
      "metadata": {
        "colab": {
          "base_uri": "https://localhost:8080/"
        },
        "id": "8PUbK9Hp4K-A",
        "outputId": "413c3024-d278-455e-ab2c-061f4fad7317"
      },
      "outputs": [
        {
          "output_type": "execute_result",
          "data": {
            "text/plain": [
              "payment_type            category\n",
              "employment_status       category\n",
              "email_is_free           category\n",
              "housing_status          category\n",
              "phone_home_valid        category\n",
              "phone_mobile_valid      category\n",
              "has_other_cards         category\n",
              "foreign_request         category\n",
              "source                  category\n",
              "device_os               category\n",
              "keep_alive_session      category\n",
              "device_fraud_count      category\n",
              "referred                category\n",
              "under_loan              category\n",
              "canceled_other_cards    category\n",
              "default_loan_or_card    category\n",
              "month                   category\n",
              "customer_age_bin        category\n",
              "dtype: object"
            ]
          },
          "metadata": {},
          "execution_count": 12
        }
      ],
      "source": [
        "#Remove fraud_bool target from df_cat\n",
        "df_cat=df.select_dtypes(include = [\"category\"])\n",
        "df_cat = df_cat.drop(\"fraud_bool\", axis = 1)\n",
        "df_cat.dtypes"
      ]
    },
    {
      "cell_type": "markdown",
      "metadata": {
        "id": "T2AWm7weWmhm"
      },
      "source": [
        "#Section 3: Imputation ➖"
      ]
    },
    {
      "cell_type": "code",
      "execution_count": null,
      "metadata": {
        "id": "7VwhblBC6cyu"
      },
      "outputs": [],
      "source": [
        "#Replace missing variables with NaN so they are consistent with other variables\n",
        "df[\"current_address_months_count\"]=df[\"current_address_months_count\"].replace(-1, np.NaN)\n",
        "df[\"bank_months_count\"]=df[\"bank_months_count\"].replace(-1, np.NaN)"
      ]
    },
    {
      "cell_type": "code",
      "execution_count": null,
      "metadata": {
        "id": "j-gdeUYupvhc"
      },
      "outputs": [],
      "source": [
        "#Replace missing values in df_cont with median\n",
        "for col in df_cont:\n",
        "  df_cont[col] = df_cont[col].fillna(df_cont[col].median())"
      ]
    },
    {
      "cell_type": "code",
      "execution_count": null,
      "metadata": {
        "id": "mngYIUt07KKo"
      },
      "outputs": [],
      "source": [
        "#Reaplce missing values in df_cat with mode\n",
        "for col in df_cat:\n",
        "  df_cat[col] = df_cat[col].fillna(df_cat[col].mode()[0])"
      ]
    },
    {
      "cell_type": "code",
      "execution_count": null,
      "metadata": {
        "colab": {
          "base_uri": "https://localhost:8080/"
        },
        "id": "-tKZJ3kN7mtO",
        "outputId": "2255a8a3-7e0e-4756-c510-bec6540e47ba"
      },
      "outputs": [
        {
          "output_type": "execute_result",
          "data": {
            "text/plain": [
              "payment_type            0\n",
              "employment_status       0\n",
              "email_is_free           0\n",
              "housing_status          0\n",
              "phone_home_valid        0\n",
              "phone_mobile_valid      0\n",
              "has_other_cards         0\n",
              "foreign_request         0\n",
              "source                  0\n",
              "device_os               0\n",
              "keep_alive_session      0\n",
              "device_fraud_count      0\n",
              "referred                0\n",
              "under_loan              0\n",
              "canceled_other_cards    0\n",
              "default_loan_or_card    0\n",
              "month                   0\n",
              "customer_age_bin        0\n",
              "dtype: int64"
            ]
          },
          "metadata": {},
          "execution_count": 16
        }
      ],
      "source": [
        "#Check missing values in df_cont and df_cat\n",
        "df_cont.isna().sum()\n",
        "df_cat.isna().sum()"
      ]
    },
    {
      "cell_type": "code",
      "source": [
        "#No missingness moving into the processing stage\n",
        "df_cont.isna().mean().plot(kind='bar', color='thistle')"
      ],
      "metadata": {
        "colab": {
          "base_uri": "https://localhost:8080/",
          "height": 662
        },
        "id": "tMwANuNKHYpg",
        "outputId": "13ac6037-f97e-4461-cc15-a59606d3d756"
      },
      "execution_count": null,
      "outputs": [
        {
          "output_type": "execute_result",
          "data": {
            "text/plain": [
              "<Axes: >"
            ]
          },
          "metadata": {},
          "execution_count": 17
        },
        {
          "output_type": "display_data",
          "data": {
            "text/plain": [
              "<Figure size 640x480 with 1 Axes>"
            ],
            "image/png": "[encoded data removed]"
          },
          "metadata": {}
        }
      ]
    },
    {
      "cell_type": "code",
      "source": [
        "#No missingness moving into the processing stage\n",
        "df_cat.isna().mean().plot(kind='bar', color='thistle')"
      ],
      "metadata": {
        "colab": {
          "base_uri": "https://localhost:8080/",
          "height": 584
        },
        "id": "AhzP7486HfOc",
        "outputId": "e8dd85ef-ced2-4094-9fb5-8e309055ecc6"
      },
      "execution_count": null,
      "outputs": [
        {
          "output_type": "execute_result",
          "data": {
            "text/plain": [
              "<Axes: >"
            ]
          },
          "metadata": {},
          "execution_count": 18
        },
        {
          "output_type": "display_data",
          "data": {
            "text/plain": [
              "<Figure size 640x480 with 1 Axes>"
            ],
            "image/png": "[encoded data removed]"
          },
          "metadata": {}
        }
      ]
    },
    {
      "cell_type": "markdown",
      "metadata": {
        "id": "RuPH8QOhW0i1"
      },
      "source": [
        "#Section 4: Feature Engineering 🧰"
      ]
    },
    {
      "cell_type": "markdown",
      "metadata": {
        "id": "_Pt6uEqiXK27"
      },
      "source": [
        "##Employment Status"
      ]
    },
    {
      "cell_type": "code",
      "execution_count": null,
      "metadata": {
        "colab": {
          "base_uri": "https://localhost:8080/"
        },
        "id": "eyvwsJ0U7_xB",
        "outputId": "1d3703fc-cee6-4172-a229-98fd65ea40e5"
      },
      "outputs": [
        {
          "output_type": "execute_result",
          "data": {
            "text/plain": [
              "CA    73476\n",
              "CB    13713\n",
              "CF     4266\n",
              "CC     3708\n",
              "CD     2575\n",
              "CE     2217\n",
              "CG       45\n",
              "Name: employment_status, dtype: int64"
            ]
          },
          "metadata": {},
          "execution_count": 19
        }
      ],
      "source": [
        "#Employment status has 7 categories- shorten to 5\n",
        "df_cat[\"employment_status\"].value_counts()"
      ]
    },
    {
      "cell_type": "code",
      "execution_count": null,
      "metadata": {
        "colab": {
          "base_uri": "https://localhost:8080/"
        },
        "id": "X7lDllxuxb_-",
        "outputId": "e208743a-7c00-4e83-9628-b957ce6e5ab2"
      },
      "outputs": [
        {
          "output_type": "execute_result",
          "data": {
            "text/plain": [
              "CA       73476\n",
              "CB       13713\n",
              "other     4837\n",
              "CF        4266\n",
              "CC        3708\n",
              "Name: employment_status, dtype: int64"
            ]
          },
          "metadata": {},
          "execution_count": 20
        }
      ],
      "source": [
        "#Bin employment status into 5 categories\n",
        "top_5 = df_cat['employment_status'].value_counts().index[0:4]\n",
        "df_cat['employment_status'] = np.where(df_cat['employment_status'].isin(top_5), df_cat['employment_status'], \"other\")\n",
        "\n",
        "#Check to see if binned properly\n",
        "df_cat['employment_status'].value_counts()"
      ]
    },
    {
      "cell_type": "markdown",
      "metadata": {
        "id": "OVwmevWTXOu_"
      },
      "source": [
        "##Address"
      ]
    },
    {
      "cell_type": "code",
      "source": [
        "#Check correlation between current address and velocity_24h\n",
        "#Note: These are not highly correlated\n",
        "df_cont['prev_address_months_count'].corr(df_cont[\"current_address_months_count\"])"
      ],
      "metadata": {
        "colab": {
          "base_uri": "https://localhost:8080/"
        },
        "id": "wHMsWQfUFfFb",
        "outputId": "933c3678-5111-4298-9363-e04c023400fa"
      },
      "execution_count": null,
      "outputs": [
        {
          "output_type": "execute_result",
          "data": {
            "text/plain": [
              "-0.2683582743255395"
            ]
          },
          "metadata": {},
          "execution_count": 21
        }
      ]
    },
    {
      "cell_type": "code",
      "execution_count": null,
      "metadata": {
        "colab": {
          "base_uri": "https://localhost:8080/"
        },
        "id": "viX1oIQWrIzI",
        "outputId": "8046965c-6441-4597-e26e-6ad2a59a0e31"
      },
      "outputs": [
        {
          "output_type": "execute_result",
          "data": {
            "text/plain": [
              "-1      71247\n",
              " 11      1097\n",
              " 29      1064\n",
              " 10      1007\n",
              " 27       994\n",
              "        ...  \n",
              " 253        1\n",
              " 258        1\n",
              " 363        1\n",
              " 259        1\n",
              " 260        1\n",
              "Name: prev_address_months_count, Length: 356, dtype: int64"
            ]
          },
          "metadata": {},
          "execution_count": 22
        }
      ],
      "source": [
        "#Note: Lots of missing values , -1 = missing\n",
        "df[\"prev_address_months_count\"].value_counts()"
      ]
    },
    {
      "cell_type": "code",
      "execution_count": null,
      "metadata": {
        "colab": {
          "base_uri": "https://localhost:8080/"
        },
        "id": "hEKG2fi3sN-h",
        "outputId": "8dcaac3b-382f-41de-ecec-2d7c2c796221"
      },
      "outputs": [
        {
          "output_type": "execute_result",
          "data": {
            "text/plain": [
              "7.0      1606\n",
              "8.0      1571\n",
              "5.0      1556\n",
              "6.0      1535\n",
              "9.0      1525\n",
              "         ... \n",
              "394.0       2\n",
              "410.0       1\n",
              "413.0       1\n",
              "397.0       1\n",
              "402.0       1\n",
              "Name: current_address_months_count, Length: 402, dtype: int64"
            ]
          },
          "metadata": {},
          "execution_count": 23
        }
      ],
      "source": [
        "#Note: Not a lot of missing values , -1 = missing\n",
        "df[\"current_address_months_count\"] .value_counts()"
      ]
    },
    {
      "cell_type": "code",
      "execution_count": null,
      "metadata": {
        "colab": {
          "base_uri": "https://localhost:8080/"
        },
        "id": "DnZwSJjTu7Ap",
        "outputId": "5191a91e-965e-4a0e-9b69-e43973419127"
      },
      "outputs": [
        {
          "output_type": "execute_result",
          "data": {
            "text/plain": [
              "0    71247\n",
              "1    28753\n",
              "Name: prev_address_bin, dtype: int64"
            ]
          },
          "metadata": {},
          "execution_count": 24
        }
      ],
      "source": [
        "#ASSUMPTION: More important to know if they had one or not rather than months lived there.\n",
        "#ASSUMPTION: Move forward with prev_address as a bin due to lots of misisng values\n",
        "#Imputation would distort true state of feature\n",
        "df_cont['prev_address_bin'] = np.where(df_cont['prev_address_months_count']== -1, 0, 1)\n",
        "df_cont['prev_address_bin'].value_counts()"
      ]
    },
    {
      "cell_type": "markdown",
      "metadata": {
        "id": "vhoiuhC0XY2P"
      },
      "source": [
        "##Velocity of Applications"
      ]
    },
    {
      "cell_type": "code",
      "source": [
        "#Check correlation between velocity_4w and velocity_24h\n",
        "df_cont['velocity_4w'].corr(df_cont['velocity_24h'])"
      ],
      "metadata": {
        "colab": {
          "base_uri": "https://localhost:8080/"
        },
        "id": "w6mVewGmEW4e",
        "outputId": "b01da316-449a-423b-de59-bd95c2a7813b"
      },
      "execution_count": null,
      "outputs": [
        {
          "output_type": "execute_result",
          "data": {
            "text/plain": [
              "0.5345785177738184"
            ]
          },
          "metadata": {},
          "execution_count": 25
        }
      ]
    },
    {
      "cell_type": "code",
      "source": [
        "#Check correlation between velocity_6h and velocity_24h\n",
        "df_cont['velocity_6h'].corr(df_cont['velocity_24h'])"
      ],
      "metadata": {
        "colab": {
          "base_uri": "https://localhost:8080/"
        },
        "id": "CS81E7ELEfJ4",
        "outputId": "2b183fe7-88ca-4729-9c9e-121819d663af"
      },
      "execution_count": null,
      "outputs": [
        {
          "output_type": "execute_result",
          "data": {
            "text/plain": [
              "0.46167150018150416"
            ]
          },
          "metadata": {},
          "execution_count": 26
        }
      ]
    },
    {
      "cell_type": "code",
      "execution_count": null,
      "metadata": {
        "id": "BYnSt5LZwTpn"
      },
      "outputs": [],
      "source": [
        "#ASSUMPTION: velocity_4w and velocity_6h are highly corralted with velocity_24\n",
        "#Drop velocity_4w and velocity_6h\n",
        "df_cont = df_cont.drop(['velocity_4w'], axis=1)\n",
        "df_cont = df_cont.drop(['velocity_6h'], axis=1)"
      ]
    },
    {
      "cell_type": "markdown",
      "metadata": {
        "id": "Po3FGLZBdXdb"
      },
      "source": [
        "#Section 5: Functions ⚡"
      ]
    },
    {
      "cell_type": "code",
      "execution_count": null,
      "metadata": {
        "id": "k-C6DHKpB09N"
      },
      "outputs": [],
      "source": [
        "#Define IQR function\n",
        "def my_iqr(col):\n",
        "  \"\"\"outlier handling via the IQR method\"\"\"\n",
        "  ### use np functions to better fit in pipeline\n",
        "  iqr = 1.5 * (np.quantile(col,.75) - np.quantile(col,.25))\n",
        "  u_bound = np.quantile(col,.75) + iqr\n",
        "  l_bound = np.quantile(col,.25) - iqr\n",
        "  col[col > u_bound], col[col < l_bound] = u_bound, l_bound\n",
        "  return col"
      ]
    },
    {
      "cell_type": "code",
      "execution_count": null,
      "metadata": {
        "id": "JAbXydO1IKc0"
      },
      "outputs": [],
      "source": [
        "outlier_handler = FunctionTransformer(my_iqr)"
      ]
    },
    {
      "cell_type": "code",
      "source": [
        "#Define 3STD function\n",
        "def my_3std(col):\n",
        "  \"\"\"outlier handling via the 3STD method\"\"\"\n",
        "  ### use np functions to better fit in pipeline\n",
        "  std_find = col.std()\n",
        "  u_bound = col.mean() + (3*std_find)\n",
        "  l_bound = col.mean() - (3*std_find)\n",
        "  col[col > u_bound], col[col < l_bound] = u_bound, l_bound\n",
        "  return col"
      ],
      "metadata": {
        "id": "woZiTmdYIDTo"
      },
      "execution_count": null,
      "outputs": []
    },
    {
      "cell_type": "code",
      "source": [
        "std_handler = FunctionTransformer(my_3std)"
      ],
      "metadata": {
        "id": "xMtg7URxLMT0"
      },
      "execution_count": null,
      "outputs": []
    },
    {
      "cell_type": "markdown",
      "metadata": {
        "id": "pzEFxTJGY515"
      },
      "source": [
        "#Section 6: Pipelines 🖇"
      ]
    },
    {
      "cell_type": "code",
      "execution_count": null,
      "metadata": {
        "id": "0B1oAr_ihVCk"
      },
      "outputs": [],
      "source": [
        "# Import additional libraries\n",
        "from sklearn.preprocessing import FunctionTransformer, PowerTransformer, StandardScaler, MinMaxScaler, QuantileTransformer, Normalizer\n",
        "from sklearn.impute import SimpleImputer\n",
        "from sklearn.pipeline import Pipeline\n"
      ]
    },
    {
      "cell_type": "code",
      "execution_count": null,
      "metadata": {
        "id": "n7Kjw2H_hlsf"
      },
      "outputs": [],
      "source": [
        "#1A: Normalize, Outlier 3std, Scaling z-score\n",
        "pro1a_prepoc = Pipeline([\n",
        "    ('normalizer', Normalizer()),\n",
        "    ('std_dev', std_handler),\n",
        "    (\"scaler\", StandardScaler()),\n",
        "])"
      ]
    },
    {
      "cell_type": "code",
      "execution_count": null,
      "metadata": {
        "id": "e8WeAQX_hqrT"
      },
      "outputs": [],
      "source": [
        "#1B: Normalize, Scaling z-score, Outlier 3std\n",
        "pro1b_prepoc = Pipeline([\n",
        "    ('normalizer', Normalizer()),\n",
        "    (\"scaler\", StandardScaler()),\n",
        "    ('std_dev', std_handler),\n",
        "])"
      ]
    },
    {
      "cell_type": "code",
      "execution_count": null,
      "metadata": {
        "id": "USvqP47ohttV"
      },
      "outputs": [],
      "source": [
        "#2A: Outlier IQR, Scaling minmax, Normalization\n",
        "pro2a_prepoc = Pipeline([\n",
        "    ('outlier', outlier_handler),\n",
        "    (\"minmax\", MinMaxScaler()),\n",
        "    ('normalizer', Normalizer()),\n",
        "])"
      ]
    },
    {
      "cell_type": "code",
      "execution_count": null,
      "metadata": {
        "id": "xP7uQp0Xh2_a"
      },
      "outputs": [],
      "source": [
        "#2B: Scaling minmax, Outlier IQR, Normalization\n",
        "pro2b_prepoc = Pipeline([\n",
        "    (\"minmax\", MinMaxScaler()),\n",
        "    ('outlier', outlier_handler),\n",
        "    ('normalizer', Normalizer()),\n",
        "])"
      ]
    },
    {
      "cell_type": "code",
      "execution_count": null,
      "metadata": {
        "id": "wLzK-p50h6PW"
      },
      "outputs": [],
      "source": [
        "#3A: Outlier IQR, Normalization, Scaling z-score\n",
        "pro3a_prepoc = Pipeline([\n",
        "    ('outlier', outlier_handler),\n",
        "    ('normalizer', Normalizer()),\n",
        "    (\"scaler\", StandardScaler()),\n",
        "])"
      ]
    },
    {
      "cell_type": "code",
      "execution_count": null,
      "metadata": {
        "id": "z6riOjJxiByK"
      },
      "outputs": [],
      "source": [
        "#3B: Scaling minmax, Normalization, Outlier 3std\n",
        "pro3b_prepoc = Pipeline([\n",
        "    (\"minmax\", MinMaxScaler()),\n",
        "    ('normalizer', Normalizer()),\n",
        "    ('std_dev', std_handler),\n",
        "])"
      ]
    },
    {
      "cell_type": "code",
      "execution_count": null,
      "metadata": {
        "id": "hs7qNdQlFgEm"
      },
      "outputs": [],
      "source": [
        "#Define categorical and continuous columns variables to pass into ct\n",
        "cat_cols= list(df_cat.columns)\n",
        "cont_cols= df_cont.columns"
      ]
    },
    {
      "cell_type": "code",
      "execution_count": null,
      "metadata": {
        "id": "bzAW824TFYwC"
      },
      "outputs": [],
      "source": [
        "#Use column transformer one hot encoder\n",
        "ct = ColumnTransformer([\n",
        "    # (name, transformer, columns)\n",
        "    # Transformer for categorical variables\n",
        "    (\"onehot\",\n",
        "         OneHotEncoder(categories='auto', handle_unknown='ignore', ),\n",
        "         cat_cols),\n",
        "    # Transformer for continuous variables\n",
        "    (\"cont_preproc\",pro1a_prepoc, cont_cols)\n",
        "    ],\n",
        "    # what to do with variables not specified in the indices?\n",
        "    remainder=\"drop\")"
      ]
    },
    {
      "cell_type": "code",
      "execution_count": null,
      "metadata": {
        "id": "SRjtbnOdgcn0"
      },
      "outputs": [],
      "source": [
        "#Define processes\n",
        "processes = [pro1a_prepoc, pro1b_prepoc, pro2a_prepoc, pro2b_prepoc, pro3a_prepoc, pro3b_prepoc]"
      ]
    },
    {
      "cell_type": "code",
      "execution_count": null,
      "metadata": {
        "id": "v26vJAbGe-t3"
      },
      "outputs": [],
      "source": [
        "#Make a list of all the processes\n",
        "#Results are list of transformed data frames\n",
        "results = []\n",
        "for process in processes:\n",
        "  ct = ColumnTransformer([\n",
        "    # (name, transformer, columns)\n",
        "    # Transformer for categorical variables\n",
        "    (\"onehot\",\n",
        "         OneHotEncoder(categories='auto', handle_unknown='ignore', ),\n",
        "         cat_cols),\n",
        "    # Transformer for continuous variables\n",
        "    (\"cont_preproc\", process, cont_cols)\n",
        "    ],\n",
        "    # what to do with variables not specified in the indices?\n",
        "    remainder=\"drop\")\n",
        "  cat_col_names = OneHotEncoder().fit(df_cat).get_feature_names_out(df_cat.columns)\n",
        "  cont_col_names = list(df_cont.columns)\n",
        "  total_df = df_cat.join(df_cont)\n",
        "  X_train_transformed = ct.fit_transform(total_df)\n",
        "  all_cols = list(cat_col_names) + list(cont_col_names)\n",
        "  data = pd.DataFrame(X_train_transformed,columns = [all_cols])\n",
        "  total_df = df_cat.join(df_cont)\n",
        "  results.append(data)\n"
      ]
    },
    {
      "cell_type": "code",
      "source": [
        "# Save data as a file\n",
        "import pickle\n",
        "\n",
        "with open('/content/drive/MyDrive/results.pkl', 'wb') as f:\n",
        "  pickle.dump(results, f)\n",
        "\n",
        "# note that output file is opened in binary mode 'wb' file type is .pkl and path is a file name nor a directory"
      ],
      "metadata": {
        "id": "bWIhrKDOOHYu"
      },
      "execution_count": null,
      "outputs": []
    },
    {
      "cell_type": "code",
      "source": [
        "#Run profiling once at the beginning, comment out for efficiency\n",
        "!pip3 install ydata_profiling\n",
        "import ydata_profiling\n",
        "\n",
        "ydata_profiling.ProfileReport(df)"
      ],
      "metadata": {
        "id": "SR6kQhX5DteX"
      },
      "execution_count": null,
      "outputs": []
    },
    {
      "cell_type": "markdown",
      "metadata": {
        "id": "iNiZxyR3yb62"
      },
      "source": [
        "#Section 7: Feature Selection 👉"
      ]
    },
    {
      "cell_type": "code",
      "execution_count": null,
      "metadata": {
        "id": "TWJKbuK7-KSq"
      },
      "outputs": [],
      "source": [
        "#Determine shape of dataframe with new values\n",
        "array = df.values\n",
        "X = total_df.values[:,0:34] #features\n",
        "y = array[:,34]"
      ]
    },
    {
      "cell_type": "code",
      "execution_count": null,
      "metadata": {
        "id": "fav6s04GV_lZ"
      },
      "outputs": [],
      "source": [
        "def feature_selector(X, y, model, names, _method=\"topk\", n=int(X.shape[1]/2), fit_X=False, thres = 0.1):\n",
        "  \"\"\"voting based feature selector\n",
        "  - _method: \"topk\" for top-K method (default), \"cutoff\" for cut-off based method\n",
        "  - n: number of features to be selected. only available for top-K method - default half of the total features\n",
        "  - thres: cut-off threshold (default 0.1), only availabel for cutoff method\n",
        "  - fit_X: fit_transform X or just return indices\n",
        "  TODO: include support for regression problems\n",
        "  \"\"\"\n",
        "  #### Placeholder for tests\n",
        "  # X.shape[0] == y.shape[0]\n",
        "  if names: # if given feature names\n",
        "    feature_names = np.array(names)\n",
        "  else: # otherwise use location\n",
        "    feature_names = np.array([\"X%s\" % x for x in range(len(X.shape[0]))])\n",
        "  if _method == 'topk':\n",
        "    #### np.argpartition gets the indices of the largest n element from the array in ascending order\n",
        "    #### [::-1] reverse the order\n",
        "    ############################################################################\n",
        "    #### IMPORTANT:\n",
        "    #### use `chi2` as the `score_func` when doing categorical features - values has to be non-negative\n",
        "    #### use `f_classif` as the `score_func` when doing categorical and continuous feautures\n",
        "    #### use `f_regression` as the `score_func` when doing continuous feautures\n",
        "    ############################################################################\n",
        "    corr_features = list(np.argpartition(SelectKBest(score_func=f_classif, k=n).fit(X,y).scores_, -n)[-n:][::-1])\n",
        "    #### binary masking on features, use np.where() to get the indices of selected\n",
        "    rfe_features = list(np.where(RFE(model, n_features_to_select=n, step=1).fit(X, y).support_)[0])\n",
        "    #### argsort get sorted indices by values, ::-1] reverse the asceding order\n",
        "    ridge_features = list(np.argsort(Ridge(alpha=1.0).fit(X, y).coef_)[-n:][::-1])\n",
        "    #### using ExtraTree\n",
        "    extratree_features = list(np.argsort(ExtraTreesClassifier().fit(X, y).feature_importances_)[-n:][::-1])\n",
        "    ### using Random Forest:\n",
        "    rf_features = list(np.argsort(RandomForestClassifier().fit(X, y).feature_importances_)[-n:][::-1])\n",
        "    print(\"Using the Top-K method: \")\n",
        "    print(\"Selected features by correlation: \", feature_names[corr_features])\n",
        "    print(\"Selected features by RFE: \", feature_names[rfe_features])\n",
        "    print(\"Selected features by Ridge coefficients: \", feature_names[ridge_features])\n",
        "    print(\"Selected features by Extra Tree feature importance: \", feature_names[extratree_features])\n",
        "    print(\"Selected features by Random Forest feature importance: \", feature_names[rf_features])\n",
        "\n",
        "  elif _method == 'cutoff':\n",
        "    corr_features, rfe_features = list(), list() #### N/A\n",
        "    ridge_features = list(np.where(Ridge(alpha=1.0).fit(X, y).coef_ > thres)[0])\n",
        "    extratree_features = list(np.where(ExtraTreesClassifier().fit(X, y).feature_importances_ > thres)[0])\n",
        "    rf_features = list(np.where(RandomForestClassifier().fit(X, y).feature_importances_ > thres)[0])\n",
        "    print(\"Using the Cutoff method: \")\n",
        "    # print(\"Selected features by correlation: \", feature_names[corr_features])\n",
        "    # print(\"Selected features by RFE: \", feature_names[rfe_features])\n",
        "    print(\"Selected features by Ridge coefficients: \", feature_names[ridge_features])\n",
        "    print(\"Selected features by Extra Tree feature importance: \", feature_names[extratree_features])\n",
        "    print(\"Selected features by Random Forest feature importance: \", feature_names[rf_features])\n",
        "  else:\n",
        "    return(\"Only Top-K and Cutoff methods are currently supported!\")\n",
        "\n",
        "  ######################################\n",
        "  #### combine results using voting ####\n",
        "  ######################################\n",
        "  counted = Counter(np.concatenate((corr_features, rfe_features, ridge_features, extratree_features, rf_features), axis=None)).most_common(n)\n",
        "\n",
        "  #### list of tuples (feature_index, votes)\n",
        "  counted.sort(key = lambda x: x[1], reverse=True)\n",
        "  final_select_series = pd.Series({feature_names[f]:c for f,c in counted}).sort_values(ascending=False)\n",
        "  selected_idx = sorted([f for f,c in counted])\n",
        "  assert len(selected_idx) == n\n",
        "  print(final_select_series)\n",
        "  if fit_X:\n",
        "    return(X[:,selected_idx])\n",
        "  else:\n",
        "    return(feature_names[selected_idx])"
      ]
    },
    {
      "cell_type": "code",
      "execution_count": null,
      "metadata": {
        "id": "78ityp7B0iaB"
      },
      "outputs": [],
      "source": [
        "#Save selected features\n",
        "selected_features_dict = {}\n",
        "for n, X in enumerate(results):\n",
        "  print(f'{n} of {len(results)} dataframes')\n",
        "  ID = f'Pipeline{n}'\n",
        "  print(ID)\n",
        "\n",
        "  selected_features = feature_selector(X, df.fraud_bool, model=RandomForestClassifier(),names = all_cols)\n",
        "  selected_features_dict.update({ID:selected_features})"
      ]
    },
    {
      "cell_type": "code",
      "source": [
        "#Updated dictionary of pipelines and selected features\n",
        "dict = {'Pipeline0': ['housing_status_BA', 'keep_alive_session_0.0', 'income',\n",
        "       'name_email_similarity', 'prev_address_months_count',\n",
        "       'current_address_months_count', 'customer_age',\n",
        "       'intended_balcon_amount', 'zip_count_4w', 'velocity_24h',\n",
        "       'bank_branch_count_8w', 'date_of_birth_distinct_emails_4w',\n",
        "       'credit_risk_score', 'bank_months_count', 'proposed_credit_limit',\n",
        "       'session_length_in_minutes', 'device_distinct_emails_8w'],\n",
        "       'Pipeline1': ['housing_status_BA', 'device_os_windows', 'income',\n",
        "       'name_email_similarity', 'prev_address_months_count',\n",
        "       'current_address_months_count', 'customer_age',\n",
        "       'intended_balcon_amount', 'zip_count_4w', 'velocity_24h',\n",
        "       'bank_branch_count_8w', 'date_of_birth_distinct_emails_4w',\n",
        "       'credit_risk_score', 'bank_months_count', 'proposed_credit_limit',\n",
        "       'session_length_in_minutes', 'device_distinct_emails_8w'],\n",
        "        'Pipeline2': ['housing_status_BA', 'device_os_windows', 'income',\n",
        "       'name_email_similarity', 'current_address_months_count',\n",
        "       'customer_age', 'days_since_request', 'intended_balcon_amount',\n",
        "       'zip_count_4w', 'bank_branch_count_8w',\n",
        "       'date_of_birth_distinct_emails_4w', 'credit_risk_score',\n",
        "       'bank_months_count', 'proposed_credit_limit',\n",
        "       'session_length_in_minutes', 'device_distinct_emails_8w',\n",
        "       'prev_address_bin'], 'Pipeline3': ['housing_status_BA', 'device_os_windows', 'income',\n",
        "       'name_email_similarity', 'current_address_months_count',\n",
        "       'customer_age', 'days_since_request', 'intended_balcon_amount',\n",
        "       'zip_count_4w', 'bank_branch_count_8w',\n",
        "       'date_of_birth_distinct_emails_4w', 'credit_risk_score',\n",
        "       'bank_months_count', 'proposed_credit_limit',\n",
        "       'session_length_in_minutes', 'device_distinct_emails_8w',\n",
        "       'prev_address_bin'], dtype='<U37'), 'Pipeline4': array(['housing_status_BA', 'keep_alive_session_0.0', 'income',\n",
        "       'name_email_similarity', 'prev_address_months_count',\n",
        "       'current_address_months_count', 'customer_age',\n",
        "       'intended_balcon_amount', 'zip_count_4w', 'velocity_24h',\n",
        "       'bank_branch_count_8w', 'date_of_birth_distinct_emails_4w',\n",
        "       'credit_risk_score', 'bank_months_count', 'proposed_credit_limit',\n",
        "       'session_length_in_minutes', 'device_distinct_emails_8w'],\n",
        "      dtype='<U37'), 'Pipeline5': array(['housing_status_BA', 'device_os_windows', 'income',\n",
        "       'name_email_similarity', 'current_address_months_count',\n",
        "       'customer_age', 'days_since_request', 'intended_balcon_amount',\n",
        "       'zip_count_4w', 'bank_branch_count_8w',\n",
        "       'date_of_birth_distinct_emails_4w', 'credit_risk_score',\n",
        "       'bank_months_count', 'proposed_credit_limit',\n",
        "       'session_length_in_minutes', 'device_distinct_emails_8w',\n",
        "       'prev_address_bin'], dtype='<U37')}\n"
      ],
      "metadata": {
        "colab": {
          "base_uri": "https://localhost:8080/",
          "height": 232
        },
        "id": "LvtlCvn4ZNYs",
        "outputId": "23e62ff1-c487-4927-c14f-ca9c5f1848a9"
      },
      "execution_count": null,
      "outputs": [
        {
          "output_type": "error",
          "ename": "NameError",
          "evalue": "ignored",
          "traceback": [
            "\u001b[0;31m---------------------------------------------------------------------------\u001b[0m",
            "\u001b[0;31mNameError\u001b[0m                                 Traceback (most recent call last)",
            "\u001b[0;32m<ipython-input-49-569172c26011>\u001b[0m in \u001b[0;36m<cell line: 1>\u001b[0;34m()\u001b[0m\n\u001b[0;32m----> 1\u001b[0;31m dict = {'Pipeline0': array(['housing_status_BA', 'keep_alive_session_0.0', 'income',\n\u001b[0m\u001b[1;32m      2\u001b[0m        \u001b[0;34m'name_email_similarity'\u001b[0m\u001b[0;34m,\u001b[0m \u001b[0;34m'prev_address_months_count'\u001b[0m\u001b[0;34m,\u001b[0m\u001b[0;34m\u001b[0m\u001b[0;34m\u001b[0m\u001b[0m\n\u001b[1;32m      3\u001b[0m        \u001b[0;34m'current_address_months_count'\u001b[0m\u001b[0;34m,\u001b[0m \u001b[0;34m'customer_age'\u001b[0m\u001b[0;34m,\u001b[0m\u001b[0;34m\u001b[0m\u001b[0;34m\u001b[0m\u001b[0m\n\u001b[1;32m      4\u001b[0m        \u001b[0;34m'intended_balcon_amount'\u001b[0m\u001b[0;34m,\u001b[0m \u001b[0;34m'zip_count_4w'\u001b[0m\u001b[0;34m,\u001b[0m \u001b[0;34m'velocity_24h'\u001b[0m\u001b[0;34m,\u001b[0m\u001b[0;34m\u001b[0m\u001b[0;34m\u001b[0m\u001b[0m\n\u001b[1;32m      5\u001b[0m        \u001b[0;34m'bank_branch_count_8w'\u001b[0m\u001b[0;34m,\u001b[0m \u001b[0;34m'date_of_birth_distinct_emails_4w'\u001b[0m\u001b[0;34m,\u001b[0m\u001b[0;34m\u001b[0m\u001b[0;34m\u001b[0m\u001b[0m\n",
            "\u001b[0;31mNameError\u001b[0m: name 'array' is not defined"
          ]
        }
      ]
    },
    {
      "cell_type": "markdown",
      "source": [
        "{'Pipeline0': array(['housing_status_BA', 'keep_alive_session_0.0', 'income',\n",
        "       'name_email_similarity', 'prev_address_months_count',\n",
        "       'current_address_months_count', 'customer_age',\n",
        "       'intended_balcon_amount', 'zip_count_4w', 'velocity_24h',\n",
        "       'bank_branch_count_8w', 'date_of_birth_distinct_emails_4w',\n",
        "       'credit_risk_score', 'bank_months_count', 'proposed_credit_limit',\n",
        "       'session_length_in_minutes', 'device_distinct_emails_8w'],\n",
        "      dtype='<U37'), 'Pipeline1': array(['housing_status_BA', 'device_os_windows', 'income',\n",
        "       'name_email_similarity', 'prev_address_months_count',\n",
        "       'current_address_months_count', 'customer_age',\n",
        "       'intended_balcon_amount', 'zip_count_4w', 'velocity_24h',\n",
        "       'bank_branch_count_8w', 'date_of_birth_distinct_emails_4w',\n",
        "       'credit_risk_score', 'bank_months_count', 'proposed_credit_limit',\n",
        "       'session_length_in_minutes', 'device_distinct_emails_8w'],\n",
        "      dtype='<U37'), 'Pipeline2': array(['housing_status_BA', 'device_os_windows', 'income',\n",
        "       'name_email_similarity', 'current_address_months_count',\n",
        "       'customer_age', 'days_since_request', 'intended_balcon_amount',\n",
        "       'zip_count_4w', 'bank_branch_count_8w',\n",
        "       'date_of_birth_distinct_emails_4w', 'credit_risk_score',\n",
        "       'bank_months_count', 'proposed_credit_limit',\n",
        "       'session_length_in_minutes', 'device_distinct_emails_8w',\n",
        "       'prev_address_bin'], dtype='<U37'), 'Pipeline3': array(['housing_status_BA', 'device_os_windows', 'income',\n",
        "       'name_email_similarity', 'current_address_months_count',\n",
        "       'customer_age', 'days_since_request', 'intended_balcon_amount',\n",
        "       'zip_count_4w', 'bank_branch_count_8w',\n",
        "       'date_of_birth_distinct_emails_4w', 'credit_risk_score',\n",
        "       'bank_months_count', 'proposed_credit_limit',\n",
        "       'session_length_in_minutes', 'device_distinct_emails_8w',\n",
        "       'prev_address_bin'], dtype='<U37'), 'Pipeline4': array(['housing_status_BA', 'keep_alive_session_0.0', 'income',\n",
        "       'name_email_similarity', 'prev_address_months_count',\n",
        "       'current_address_months_count', 'customer_age',\n",
        "       'intended_balcon_amount', 'zip_count_4w', 'velocity_24h',\n",
        "       'bank_branch_count_8w', 'date_of_birth_distinct_emails_4w',\n",
        "       'credit_risk_score', 'bank_months_count', 'proposed_credit_limit',\n",
        "       'session_length_in_minutes', 'device_distinct_emails_8w'],\n",
        "      dtype='<U37'), 'Pipeline5': array(['housing_status_BA', 'device_os_windows', 'income',\n",
        "       'name_email_similarity', 'current_address_months_count',\n",
        "       'customer_age', 'days_since_request', 'intended_balcon_amount',\n",
        "       'zip_count_4w', 'bank_branch_count_8w',\n",
        "       'date_of_birth_distinct_emails_4w', 'credit_risk_score',\n",
        "       'bank_months_count', 'proposed_credit_limit',\n",
        "       'session_length_in_minutes', 'device_distinct_emails_8w',\n",
        "       'prev_address_bin'], dtype='<U37')}"
      ],
      "metadata": {
        "id": "tT7f976NZO51"
      }
    },
    {
      "cell_type": "markdown",
      "source": [
        "#Section 8: Modeling  🔂"
      ],
      "metadata": {
        "id": "zNkx3JneDfU5"
      }
    },
    {
      "cell_type": "markdown",
      "source": [
        "Links to notebook that encompass modeling"
      ],
      "metadata": {
        "id": "BL6aOY7TDb2i"
      }
    },
    {
      "cell_type": "markdown",
      "source": [
        "[Combined Models](https://drive.google.com/file/d/1eFRajFWs2zJP80zWQw0O7XtFWWsuebL2/view?usp=sharing)"
      ],
      "metadata": {
        "id": "KXceS03QES50"
      }
    },
    {
      "cell_type": "markdown",
      "source": [
        "[Gradient Boost](https://drive.google.com/file/d/17BAmn0oFNauUy3nW37HqxKD6X6FK4Y3m/view?usp=share_link)"
      ],
      "metadata": {
        "id": "85Lderq9Dqxf"
      }
    },
    {
      "cell_type": "markdown",
      "source": [
        "[Random Forest](https://drive.google.com/file/d/1_dp6YGxLF8FtUF3zsTLbLtljyBGmA335/view?usp=sharing)"
      ],
      "metadata": {
        "id": "W93tI7vzDqt2"
      }
    },
    {
      "cell_type": "markdown",
      "source": [
        "[Decision Tree](https://drive.google.com/file/d/1u51GYE3GpTNM07-3ip9Kb33Cpds10VbQ/view?usp=sharing)"
      ],
      "metadata": {
        "id": "9kHnWLyNDq3O"
      }
    },
    {
      "cell_type": "markdown",
      "source": [
        "[Naive Model](https://drive.google.com/file/d/1E_B5DR31jzIIw-yJW3o1IRO1qsYsVYMX/view?usp=sharing)"
      ],
      "metadata": {
        "id": "yjTA16DTDqlR"
      }
    },
    {
      "cell_type": "markdown",
      "source": [
        "[TPOT](https://colab.research.google.com/drive/1KsbB0q8-dg2iEze0pGQUnwrkGb9h8n-B?usp=share_link)"
      ],
      "metadata": {
        "id": "s9sMREDNDq6G"
      }
    },
    {
      "cell_type": "markdown",
      "source": [
        "[Keras](https://colab.research.google.com/drive/1na28A4G0ZfEtsh89pmbTB641d6FHr5IZ?usp=share_link)"
      ],
      "metadata": {
        "id": "zaxwAPOzDiiN"
      }
    },
    {
      "cell_type": "markdown",
      "source": [
        "# Section 9: Conclusion 💡"
      ],
      "metadata": {
        "id": "bPFiEOLKENoP"
      }
    },
    {
      "cell_type": "markdown",
      "source": [
        "**Can we detect bank application fraud?**\n",
        "\n",
        "We believe that, yes, we can detect bank application fraud.\n",
        "\n",
        "\n",
        "\n",
        "\n",
        "**Is there a model that works better than others?**\n",
        "\n",
        "The best model results we got were from decision tree, random forest, and gradient boost. The random forest model yielded the best recall results at about .65. However, we believe this model is best used in conjunction with a decision tree. The decision tree allows the user to see the process behind the model, whereas the random forest model is simply a black box that spits out an output.\n",
        "\n",
        "\n",
        "\n",
        "**What features help to best detect fraud?**\n",
        "\n",
        "While we assumed features such as income, domain email, current address, age, and credit score would be the best indicators of fraudsters, this was not the case. The five most important features were housing status BA (unknown), device windows, keep alive session false, email is free true, and phone home valid false. Of the total features, the model yielded 14 important in detecting fraud.\n",
        "\n",
        "\n",
        "\n"
      ],
      "metadata": {
        "id": "jO_3gq4tB_bh"
      }
    },
    {
      "cell_type": "markdown",
      "source": [
        "# Section 10: Next steps:: ⏭\n"
      ],
      "metadata": {
        "id": "ewNh7y36ET60"
      }
    },
    {
      "cell_type": "markdown",
      "source": [
        "Because fraud detection and prevention is an ongoing process for all companies, especially those in the financial services industry, there are many steps that can be taken to develop this model and the results. One thing to be done is clearly outline who the stakeholders are and what perspective is being analyzed. This is important to do in determining what the best evaluation metric is whether that be recall or accuracy for example. An additional next step would be to optimize the data collection in general. This could be done first by evaluating the importance of each application question and ensuring that there is a purpose to each one. Some other methods for next steps include developing deep learning models such as Tensorflow."
      ],
      "metadata": {
        "id": "EcE412wTCdOf"
      }
    }
  ],
  "metadata": {
    "colab": {
      "provenance": [],
      "toc_visible": true
    },
    "kernelspec": {
      "display_name": "Python 3",
      "name": "python3"
    },
    "language_info": {
      "name": "python"
    }
  },
  "nbformat": 4,
  "nbformat_minor": 0
}